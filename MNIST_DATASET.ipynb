{
  "nbformat": 4,
  "nbformat_minor": 0,
  "metadata": {
    "colab": {
      "name": "MNIST_DATASET.ipynb",
      "provenance": [],
      "collapsed_sections": []
    },
    "kernelspec": {
      "name": "python3",
      "display_name": "Python 3"
    },
    "language_info": {
      "name": "python"
    },
    "accelerator": "GPU"
  },
  "cells": [
    {
      "cell_type": "code",
      "metadata": {
        "id": "QK6Q45FVx0Vu"
      },
      "source": [
        "import numpy as np\n",
        "import tensorflow as tf\n",
        "from tensorflow import keras "
      ],
      "execution_count": null,
      "outputs": []
    },
    {
      "cell_type": "code",
      "metadata": {
        "id": "YiXt6icmx0YO"
      },
      "source": [
        "#Network training parameters\n",
        "EPOCHS=200\n",
        "BATCH_SIZE=128\n",
        "VERBOSE=1\n",
        "NB_CLASSES=10\n",
        "N_HIDDEN=128\n",
        "VALIDATION_SPLIT=0.2\n",
        "RESHAPED=784"
      ],
      "execution_count": null,
      "outputs": []
    },
    {
      "cell_type": "code",
      "metadata": {
        "id": "ebvzBgOix0bF"
      },
      "source": [
        "#LOADING MNIST DATASETS\n",
        "mnist = keras.datasets.mnist"
      ],
      "execution_count": null,
      "outputs": []
    },
    {
      "cell_type": "code",
      "metadata": {
        "id": "yifx5HLJx0gW"
      },
      "source": [
        "(X_train, y_train), (X_test, y_test) = mnist.load_data()"
      ],
      "execution_count": null,
      "outputs": []
    },
    {
      "cell_type": "code",
      "metadata": {
        "colab": {
          "base_uri": "https://localhost:8080/"
        },
        "id": "DCmBq3Zwx0jw",
        "outputId": "5956926e-f981-47bc-d9ed-e393b93e6beb"
      },
      "source": [
        "X_train.shape, y_train.shape"
      ],
      "execution_count": null,
      "outputs": [
        {
          "output_type": "execute_result",
          "data": {
            "text/plain": [
              "((60000, 28, 28), (60000,))"
            ]
          },
          "metadata": {},
          "execution_count": 15
        }
      ]
    },
    {
      "cell_type": "code",
      "metadata": {
        "colab": {
          "base_uri": "https://localhost:8080/"
        },
        "id": "3p2sXObT8elR",
        "outputId": "99dc9f1a-b98f-4e32-e6bc-064ddee2e0b5"
      },
      "source": [
        "X_test.shape, y_test.shape"
      ],
      "execution_count": null,
      "outputs": [
        {
          "output_type": "execute_result",
          "data": {
            "text/plain": [
              "((10000, 28, 28), (10000,))"
            ]
          },
          "metadata": {},
          "execution_count": 16
        }
      ]
    },
    {
      "cell_type": "code",
      "metadata": {
        "id": "efKjKlT_8enr"
      },
      "source": [
        "X_train = X_train.reshape(60000, RESHAPED)\n",
        "X_test = X_test.reshape(10000, RESHAPED)\n",
        "X_train = X_train.astype('float32')\n",
        "X_test = X_test.astype('float32')"
      ],
      "execution_count": null,
      "outputs": []
    },
    {
      "cell_type": "code",
      "metadata": {
        "id": "edAhBdJV8eqC"
      },
      "source": [
        "#Normalization input to be within in [0,1]\n",
        "X_train /= 255\n",
        "X_test /= 255"
      ],
      "execution_count": null,
      "outputs": []
    },
    {
      "cell_type": "code",
      "metadata": {
        "colab": {
          "base_uri": "https://localhost:8080/"
        },
        "id": "IZjj6cRL8esf",
        "outputId": "201c19ae-902b-4e98-bbeb-8932b6a260f4"
      },
      "source": [
        "print(X_train.shape[0],'train samples')\n",
        "print(X_test.shape[0],'test samples')"
      ],
      "execution_count": null,
      "outputs": [
        {
          "output_type": "stream",
          "text": [
            "60000 train samples\n",
            "10000 test samples\n"
          ],
          "name": "stdout"
        }
      ]
    },
    {
      "cell_type": "code",
      "metadata": {
        "id": "oTatcqgo8evB"
      },
      "source": [
        "#One-hot representation of the labels\n"
      ],
      "execution_count": null,
      "outputs": []
    },
    {
      "cell_type": "code",
      "metadata": {
        "id": "9rIevHK-8exF"
      },
      "source": [
        "y_train = tf.keras.utils.to_categorical(y_train, NB_CLASSES)\n",
        "y_test = tf.keras.utils.to_categorical(y_test, NB_CLASSES)"
      ],
      "execution_count": null,
      "outputs": []
    },
    {
      "cell_type": "code",
      "metadata": {
        "id": "w8S_9Nhr8ezS"
      },
      "source": [
        "# Build the model.\n",
        "model = tf.keras.models.Sequential()\n",
        "model.add(keras.layers.Dense(NB_CLASSES, input_shape=(RESHAPED,),name='dense_layer',activation='softmax'))"
      ],
      "execution_count": null,
      "outputs": []
    },
    {
      "cell_type": "code",
      "metadata": {
        "id": "NTrxPRxf8e1t"
      },
      "source": [
        "model.compile(optimizer='Adam',loss='categorical_crossentropy',metrics=['accuracy'])"
      ],
      "execution_count": null,
      "outputs": []
    },
    {
      "cell_type": "code",
      "metadata": {
        "id": "VlTvMkR1EhFh"
      },
      "source": [
        ""
      ],
      "execution_count": null,
      "outputs": []
    },
    {
      "cell_type": "code",
      "metadata": {
        "colab": {
          "base_uri": "https://localhost:8080/"
        },
        "id": "kM9WRkwP8e5G",
        "outputId": "a51dccfb-0429-49e1-f334-15cc02c0e821"
      },
      "source": [
        "model.fit(x=X_train, y=y_train, batch_size=BATCH_SIZE, epochs=EPOCHS, verbose=VERBOSE, callbacks=None, validation_split=VALIDATION_SPLIT)"
      ],
      "execution_count": null,
      "outputs": [
        {
          "output_type": "stream",
          "text": [
            "Epoch 1/200\n",
            "375/375 [==============================] - 4s 3ms/step - loss: 0.7484 - accuracy: 0.8185 - val_loss: 0.4090 - val_accuracy: 0.8971\n",
            "Epoch 2/200\n",
            "375/375 [==============================] - 1s 2ms/step - loss: 0.3894 - accuracy: 0.8958 - val_loss: 0.3341 - val_accuracy: 0.9096\n",
            "Epoch 3/200\n",
            "375/375 [==============================] - 1s 2ms/step - loss: 0.3383 - accuracy: 0.9075 - val_loss: 0.3072 - val_accuracy: 0.9144\n",
            "Epoch 4/200\n",
            "375/375 [==============================] - 1s 2ms/step - loss: 0.3151 - accuracy: 0.9132 - val_loss: 0.2930 - val_accuracy: 0.9189\n",
            "Epoch 5/200\n",
            "375/375 [==============================] - 1s 2ms/step - loss: 0.3006 - accuracy: 0.9161 - val_loss: 0.2841 - val_accuracy: 0.9199\n",
            "Epoch 6/200\n",
            "375/375 [==============================] - 1s 2ms/step - loss: 0.2908 - accuracy: 0.9189 - val_loss: 0.2791 - val_accuracy: 0.9226\n",
            "Epoch 7/200\n",
            "375/375 [==============================] - 1s 3ms/step - loss: 0.2834 - accuracy: 0.9211 - val_loss: 0.2746 - val_accuracy: 0.9241\n",
            "Epoch 8/200\n",
            "375/375 [==============================] - 1s 2ms/step - loss: 0.2782 - accuracy: 0.9227 - val_loss: 0.2695 - val_accuracy: 0.9253\n",
            "Epoch 9/200\n",
            "375/375 [==============================] - 1s 2ms/step - loss: 0.2735 - accuracy: 0.9234 - val_loss: 0.2697 - val_accuracy: 0.9255\n",
            "Epoch 10/200\n",
            "375/375 [==============================] - 1s 2ms/step - loss: 0.2700 - accuracy: 0.9246 - val_loss: 0.2669 - val_accuracy: 0.9268\n",
            "Epoch 11/200\n",
            "375/375 [==============================] - 1s 2ms/step - loss: 0.2665 - accuracy: 0.9251 - val_loss: 0.2651 - val_accuracy: 0.9274\n",
            "Epoch 12/200\n",
            "375/375 [==============================] - 1s 2ms/step - loss: 0.2639 - accuracy: 0.9264 - val_loss: 0.2636 - val_accuracy: 0.9276\n",
            "Epoch 13/200\n",
            "375/375 [==============================] - 1s 2ms/step - loss: 0.2616 - accuracy: 0.9274 - val_loss: 0.2629 - val_accuracy: 0.9283\n",
            "Epoch 14/200\n",
            "375/375 [==============================] - 1s 2ms/step - loss: 0.2595 - accuracy: 0.9275 - val_loss: 0.2620 - val_accuracy: 0.9293\n",
            "Epoch 15/200\n",
            "375/375 [==============================] - 1s 2ms/step - loss: 0.2575 - accuracy: 0.9280 - val_loss: 0.2626 - val_accuracy: 0.9290\n",
            "Epoch 16/200\n",
            "375/375 [==============================] - 1s 2ms/step - loss: 0.2560 - accuracy: 0.9291 - val_loss: 0.2619 - val_accuracy: 0.9284\n",
            "Epoch 17/200\n",
            "375/375 [==============================] - 1s 2ms/step - loss: 0.2542 - accuracy: 0.9291 - val_loss: 0.2602 - val_accuracy: 0.9292\n",
            "Epoch 18/200\n",
            "375/375 [==============================] - 1s 2ms/step - loss: 0.2529 - accuracy: 0.9293 - val_loss: 0.2607 - val_accuracy: 0.9295\n",
            "Epoch 19/200\n",
            "375/375 [==============================] - 1s 2ms/step - loss: 0.2516 - accuracy: 0.9302 - val_loss: 0.2587 - val_accuracy: 0.9298\n",
            "Epoch 20/200\n",
            "375/375 [==============================] - 1s 2ms/step - loss: 0.2504 - accuracy: 0.9307 - val_loss: 0.2596 - val_accuracy: 0.9302\n",
            "Epoch 21/200\n",
            "375/375 [==============================] - 1s 2ms/step - loss: 0.2491 - accuracy: 0.9306 - val_loss: 0.2602 - val_accuracy: 0.9305\n",
            "Epoch 22/200\n",
            "375/375 [==============================] - 1s 2ms/step - loss: 0.2482 - accuracy: 0.9306 - val_loss: 0.2606 - val_accuracy: 0.9290\n",
            "Epoch 23/200\n",
            "375/375 [==============================] - 1s 2ms/step - loss: 0.2474 - accuracy: 0.9316 - val_loss: 0.2605 - val_accuracy: 0.9297\n",
            "Epoch 24/200\n",
            "375/375 [==============================] - 1s 3ms/step - loss: 0.2462 - accuracy: 0.9312 - val_loss: 0.2590 - val_accuracy: 0.9307\n",
            "Epoch 25/200\n",
            "375/375 [==============================] - 1s 2ms/step - loss: 0.2453 - accuracy: 0.9321 - val_loss: 0.2593 - val_accuracy: 0.9309\n",
            "Epoch 26/200\n",
            "375/375 [==============================] - 1s 2ms/step - loss: 0.2443 - accuracy: 0.9319 - val_loss: 0.2586 - val_accuracy: 0.9302\n",
            "Epoch 27/200\n",
            "375/375 [==============================] - 1s 2ms/step - loss: 0.2435 - accuracy: 0.9324 - val_loss: 0.2597 - val_accuracy: 0.9299\n",
            "Epoch 28/200\n",
            "375/375 [==============================] - 1s 2ms/step - loss: 0.2429 - accuracy: 0.9324 - val_loss: 0.2602 - val_accuracy: 0.9302\n",
            "Epoch 29/200\n",
            "375/375 [==============================] - 1s 2ms/step - loss: 0.2419 - accuracy: 0.9327 - val_loss: 0.2586 - val_accuracy: 0.9305\n",
            "Epoch 30/200\n",
            "375/375 [==============================] - 1s 2ms/step - loss: 0.2415 - accuracy: 0.9330 - val_loss: 0.2596 - val_accuracy: 0.9306\n",
            "Epoch 31/200\n",
            "375/375 [==============================] - 1s 2ms/step - loss: 0.2409 - accuracy: 0.9329 - val_loss: 0.2590 - val_accuracy: 0.9302\n",
            "Epoch 32/200\n",
            "375/375 [==============================] - 1s 2ms/step - loss: 0.2403 - accuracy: 0.9332 - val_loss: 0.2590 - val_accuracy: 0.9302\n",
            "Epoch 33/200\n",
            "375/375 [==============================] - 1s 2ms/step - loss: 0.2396 - accuracy: 0.9331 - val_loss: 0.2605 - val_accuracy: 0.9301\n",
            "Epoch 34/200\n",
            "375/375 [==============================] - 1s 2ms/step - loss: 0.2391 - accuracy: 0.9336 - val_loss: 0.2594 - val_accuracy: 0.9321\n",
            "Epoch 35/200\n",
            "375/375 [==============================] - 1s 2ms/step - loss: 0.2387 - accuracy: 0.9343 - val_loss: 0.2611 - val_accuracy: 0.9301\n",
            "Epoch 36/200\n",
            "375/375 [==============================] - 1s 2ms/step - loss: 0.2381 - accuracy: 0.9338 - val_loss: 0.2607 - val_accuracy: 0.9308\n",
            "Epoch 37/200\n",
            "375/375 [==============================] - 1s 2ms/step - loss: 0.2375 - accuracy: 0.9346 - val_loss: 0.2608 - val_accuracy: 0.9308\n",
            "Epoch 38/200\n",
            "375/375 [==============================] - 1s 2ms/step - loss: 0.2367 - accuracy: 0.9344 - val_loss: 0.2611 - val_accuracy: 0.9304\n",
            "Epoch 39/200\n",
            "375/375 [==============================] - 1s 2ms/step - loss: 0.2365 - accuracy: 0.9347 - val_loss: 0.2610 - val_accuracy: 0.9318\n",
            "Epoch 40/200\n",
            "375/375 [==============================] - 1s 2ms/step - loss: 0.2355 - accuracy: 0.9344 - val_loss: 0.2618 - val_accuracy: 0.9309\n",
            "Epoch 41/200\n",
            "375/375 [==============================] - 1s 2ms/step - loss: 0.2356 - accuracy: 0.9352 - val_loss: 0.2601 - val_accuracy: 0.9307\n",
            "Epoch 42/200\n",
            "375/375 [==============================] - 1s 2ms/step - loss: 0.2352 - accuracy: 0.9348 - val_loss: 0.2640 - val_accuracy: 0.9295\n",
            "Epoch 43/200\n",
            "375/375 [==============================] - 1s 2ms/step - loss: 0.2345 - accuracy: 0.9350 - val_loss: 0.2604 - val_accuracy: 0.9301\n",
            "Epoch 44/200\n",
            "375/375 [==============================] - 1s 2ms/step - loss: 0.2344 - accuracy: 0.9350 - val_loss: 0.2621 - val_accuracy: 0.9321\n",
            "Epoch 45/200\n",
            "375/375 [==============================] - 1s 2ms/step - loss: 0.2341 - accuracy: 0.9352 - val_loss: 0.2615 - val_accuracy: 0.9317\n",
            "Epoch 46/200\n",
            "375/375 [==============================] - 1s 2ms/step - loss: 0.2334 - accuracy: 0.9358 - val_loss: 0.2609 - val_accuracy: 0.9314\n",
            "Epoch 47/200\n",
            "375/375 [==============================] - 1s 2ms/step - loss: 0.2331 - accuracy: 0.9359 - val_loss: 0.2620 - val_accuracy: 0.9311\n",
            "Epoch 48/200\n",
            "375/375 [==============================] - 1s 2ms/step - loss: 0.2328 - accuracy: 0.9352 - val_loss: 0.2643 - val_accuracy: 0.9296\n",
            "Epoch 49/200\n",
            "375/375 [==============================] - 1s 2ms/step - loss: 0.2326 - accuracy: 0.9354 - val_loss: 0.2622 - val_accuracy: 0.9307\n",
            "Epoch 50/200\n",
            "375/375 [==============================] - 1s 2ms/step - loss: 0.2322 - accuracy: 0.9354 - val_loss: 0.2630 - val_accuracy: 0.9314\n",
            "Epoch 51/200\n",
            "375/375 [==============================] - 1s 2ms/step - loss: 0.2318 - accuracy: 0.9360 - val_loss: 0.2627 - val_accuracy: 0.9313\n",
            "Epoch 52/200\n",
            "375/375 [==============================] - 1s 2ms/step - loss: 0.2317 - accuracy: 0.9362 - val_loss: 0.2634 - val_accuracy: 0.9310\n",
            "Epoch 53/200\n",
            "375/375 [==============================] - 1s 2ms/step - loss: 0.2313 - accuracy: 0.9365 - val_loss: 0.2644 - val_accuracy: 0.9302\n",
            "Epoch 54/200\n",
            "375/375 [==============================] - 1s 2ms/step - loss: 0.2310 - accuracy: 0.9358 - val_loss: 0.2646 - val_accuracy: 0.9305\n",
            "Epoch 55/200\n",
            "375/375 [==============================] - 1s 2ms/step - loss: 0.2306 - accuracy: 0.9362 - val_loss: 0.2646 - val_accuracy: 0.9310\n",
            "Epoch 56/200\n",
            "375/375 [==============================] - 1s 2ms/step - loss: 0.2303 - accuracy: 0.9363 - val_loss: 0.2635 - val_accuracy: 0.9308\n",
            "Epoch 57/200\n",
            "375/375 [==============================] - 1s 3ms/step - loss: 0.2302 - accuracy: 0.9364 - val_loss: 0.2642 - val_accuracy: 0.9301\n",
            "Epoch 58/200\n",
            "375/375 [==============================] - 1s 2ms/step - loss: 0.2297 - accuracy: 0.9364 - val_loss: 0.2643 - val_accuracy: 0.9296\n",
            "Epoch 59/200\n",
            "375/375 [==============================] - 1s 2ms/step - loss: 0.2294 - accuracy: 0.9370 - val_loss: 0.2632 - val_accuracy: 0.9316\n",
            "Epoch 60/200\n",
            "375/375 [==============================] - 1s 2ms/step - loss: 0.2291 - accuracy: 0.9364 - val_loss: 0.2656 - val_accuracy: 0.9293\n",
            "Epoch 61/200\n",
            "375/375 [==============================] - 1s 2ms/step - loss: 0.2289 - accuracy: 0.9365 - val_loss: 0.2651 - val_accuracy: 0.9299\n",
            "Epoch 62/200\n",
            "375/375 [==============================] - 1s 2ms/step - loss: 0.2283 - accuracy: 0.9371 - val_loss: 0.2648 - val_accuracy: 0.9312\n",
            "Epoch 63/200\n",
            "375/375 [==============================] - 1s 2ms/step - loss: 0.2284 - accuracy: 0.9364 - val_loss: 0.2643 - val_accuracy: 0.9311\n",
            "Epoch 64/200\n",
            "375/375 [==============================] - 1s 2ms/step - loss: 0.2284 - accuracy: 0.9367 - val_loss: 0.2640 - val_accuracy: 0.9316\n",
            "Epoch 65/200\n",
            "375/375 [==============================] - 1s 2ms/step - loss: 0.2282 - accuracy: 0.9370 - val_loss: 0.2645 - val_accuracy: 0.9308\n",
            "Epoch 66/200\n",
            "375/375 [==============================] - 1s 2ms/step - loss: 0.2278 - accuracy: 0.9365 - val_loss: 0.2653 - val_accuracy: 0.9307\n",
            "Epoch 67/200\n",
            "375/375 [==============================] - 1s 2ms/step - loss: 0.2276 - accuracy: 0.9375 - val_loss: 0.2683 - val_accuracy: 0.9301\n",
            "Epoch 68/200\n",
            "375/375 [==============================] - 1s 2ms/step - loss: 0.2270 - accuracy: 0.9366 - val_loss: 0.2657 - val_accuracy: 0.9308\n",
            "Epoch 69/200\n",
            "375/375 [==============================] - 1s 2ms/step - loss: 0.2269 - accuracy: 0.9366 - val_loss: 0.2667 - val_accuracy: 0.9299\n",
            "Epoch 70/200\n",
            "375/375 [==============================] - 1s 2ms/step - loss: 0.2266 - accuracy: 0.9374 - val_loss: 0.2670 - val_accuracy: 0.9303\n",
            "Epoch 71/200\n",
            "375/375 [==============================] - 1s 2ms/step - loss: 0.2265 - accuracy: 0.9374 - val_loss: 0.2657 - val_accuracy: 0.9317\n",
            "Epoch 72/200\n",
            "375/375 [==============================] - 1s 2ms/step - loss: 0.2263 - accuracy: 0.9377 - val_loss: 0.2686 - val_accuracy: 0.9289\n",
            "Epoch 73/200\n",
            "375/375 [==============================] - 1s 2ms/step - loss: 0.2260 - accuracy: 0.9375 - val_loss: 0.2677 - val_accuracy: 0.9293\n",
            "Epoch 74/200\n",
            "375/375 [==============================] - 1s 2ms/step - loss: 0.2255 - accuracy: 0.9376 - val_loss: 0.2673 - val_accuracy: 0.9302\n",
            "Epoch 75/200\n",
            "375/375 [==============================] - 1s 2ms/step - loss: 0.2256 - accuracy: 0.9375 - val_loss: 0.2658 - val_accuracy: 0.9308\n",
            "Epoch 76/200\n",
            "375/375 [==============================] - 1s 2ms/step - loss: 0.2255 - accuracy: 0.9375 - val_loss: 0.2691 - val_accuracy: 0.9294\n",
            "Epoch 77/200\n",
            "375/375 [==============================] - 1s 2ms/step - loss: 0.2256 - accuracy: 0.9375 - val_loss: 0.2662 - val_accuracy: 0.9312\n",
            "Epoch 78/200\n",
            "375/375 [==============================] - 1s 2ms/step - loss: 0.2250 - accuracy: 0.9376 - val_loss: 0.2693 - val_accuracy: 0.9289\n",
            "Epoch 79/200\n",
            "375/375 [==============================] - 1s 2ms/step - loss: 0.2249 - accuracy: 0.9380 - val_loss: 0.2693 - val_accuracy: 0.9308\n",
            "Epoch 80/200\n",
            "375/375 [==============================] - 1s 2ms/step - loss: 0.2246 - accuracy: 0.9371 - val_loss: 0.2683 - val_accuracy: 0.9304\n",
            "Epoch 81/200\n",
            "375/375 [==============================] - 1s 2ms/step - loss: 0.2245 - accuracy: 0.9377 - val_loss: 0.2679 - val_accuracy: 0.9306\n",
            "Epoch 82/200\n",
            "375/375 [==============================] - 1s 2ms/step - loss: 0.2245 - accuracy: 0.9377 - val_loss: 0.2677 - val_accuracy: 0.9294\n",
            "Epoch 83/200\n",
            "375/375 [==============================] - 1s 2ms/step - loss: 0.2244 - accuracy: 0.9377 - val_loss: 0.2693 - val_accuracy: 0.9299\n",
            "Epoch 84/200\n",
            "375/375 [==============================] - 1s 2ms/step - loss: 0.2238 - accuracy: 0.9376 - val_loss: 0.2684 - val_accuracy: 0.9300\n",
            "Epoch 85/200\n",
            "375/375 [==============================] - 1s 2ms/step - loss: 0.2239 - accuracy: 0.9376 - val_loss: 0.2679 - val_accuracy: 0.9307\n",
            "Epoch 86/200\n",
            "375/375 [==============================] - 1s 2ms/step - loss: 0.2234 - accuracy: 0.9379 - val_loss: 0.2693 - val_accuracy: 0.9295\n",
            "Epoch 87/200\n",
            "375/375 [==============================] - 1s 2ms/step - loss: 0.2232 - accuracy: 0.9380 - val_loss: 0.2692 - val_accuracy: 0.9293\n",
            "Epoch 88/200\n",
            "375/375 [==============================] - 1s 2ms/step - loss: 0.2233 - accuracy: 0.9379 - val_loss: 0.2700 - val_accuracy: 0.9298\n",
            "Epoch 89/200\n",
            "375/375 [==============================] - 1s 2ms/step - loss: 0.2232 - accuracy: 0.9380 - val_loss: 0.2687 - val_accuracy: 0.9298\n",
            "Epoch 90/200\n",
            "375/375 [==============================] - 1s 2ms/step - loss: 0.2231 - accuracy: 0.9384 - val_loss: 0.2714 - val_accuracy: 0.9296\n",
            "Epoch 91/200\n",
            "375/375 [==============================] - 1s 2ms/step - loss: 0.2226 - accuracy: 0.9379 - val_loss: 0.2702 - val_accuracy: 0.9302\n",
            "Epoch 92/200\n",
            "375/375 [==============================] - 1s 2ms/step - loss: 0.2227 - accuracy: 0.9379 - val_loss: 0.2706 - val_accuracy: 0.9296\n",
            "Epoch 93/200\n",
            "375/375 [==============================] - 1s 2ms/step - loss: 0.2226 - accuracy: 0.9384 - val_loss: 0.2695 - val_accuracy: 0.9313\n",
            "Epoch 94/200\n",
            "375/375 [==============================] - 1s 2ms/step - loss: 0.2225 - accuracy: 0.9379 - val_loss: 0.2722 - val_accuracy: 0.9296\n",
            "Epoch 95/200\n",
            "375/375 [==============================] - 1s 2ms/step - loss: 0.2222 - accuracy: 0.9379 - val_loss: 0.2728 - val_accuracy: 0.9293\n",
            "Epoch 96/200\n",
            "375/375 [==============================] - 1s 2ms/step - loss: 0.2220 - accuracy: 0.9375 - val_loss: 0.2702 - val_accuracy: 0.9303\n",
            "Epoch 97/200\n",
            "375/375 [==============================] - 1s 2ms/step - loss: 0.2219 - accuracy: 0.9389 - val_loss: 0.2697 - val_accuracy: 0.9303\n",
            "Epoch 98/200\n",
            "375/375 [==============================] - 1s 3ms/step - loss: 0.2219 - accuracy: 0.9388 - val_loss: 0.2706 - val_accuracy: 0.9300\n",
            "Epoch 99/200\n",
            "375/375 [==============================] - 1s 3ms/step - loss: 0.2217 - accuracy: 0.9380 - val_loss: 0.2704 - val_accuracy: 0.9300\n",
            "Epoch 100/200\n",
            "375/375 [==============================] - 1s 2ms/step - loss: 0.2217 - accuracy: 0.9382 - val_loss: 0.2710 - val_accuracy: 0.9310\n",
            "Epoch 101/200\n",
            "375/375 [==============================] - 1s 2ms/step - loss: 0.2215 - accuracy: 0.9388 - val_loss: 0.2727 - val_accuracy: 0.9293\n",
            "Epoch 102/200\n",
            "375/375 [==============================] - 1s 2ms/step - loss: 0.2216 - accuracy: 0.9384 - val_loss: 0.2722 - val_accuracy: 0.9296\n",
            "Epoch 103/200\n",
            "375/375 [==============================] - 1s 2ms/step - loss: 0.2213 - accuracy: 0.9382 - val_loss: 0.2718 - val_accuracy: 0.9302\n",
            "Epoch 104/200\n",
            "375/375 [==============================] - 1s 2ms/step - loss: 0.2212 - accuracy: 0.9385 - val_loss: 0.2707 - val_accuracy: 0.9301\n",
            "Epoch 105/200\n",
            "375/375 [==============================] - 1s 3ms/step - loss: 0.2211 - accuracy: 0.9392 - val_loss: 0.2718 - val_accuracy: 0.9299\n",
            "Epoch 106/200\n",
            "375/375 [==============================] - 1s 2ms/step - loss: 0.2209 - accuracy: 0.9382 - val_loss: 0.2726 - val_accuracy: 0.9294\n",
            "Epoch 107/200\n",
            "375/375 [==============================] - 1s 2ms/step - loss: 0.2208 - accuracy: 0.9386 - val_loss: 0.2709 - val_accuracy: 0.9300\n",
            "Epoch 108/200\n",
            "375/375 [==============================] - 1s 2ms/step - loss: 0.2206 - accuracy: 0.9388 - val_loss: 0.2718 - val_accuracy: 0.9294\n",
            "Epoch 109/200\n",
            "375/375 [==============================] - 1s 2ms/step - loss: 0.2204 - accuracy: 0.9387 - val_loss: 0.2711 - val_accuracy: 0.9311\n",
            "Epoch 110/200\n",
            "375/375 [==============================] - 1s 2ms/step - loss: 0.2204 - accuracy: 0.9388 - val_loss: 0.2726 - val_accuracy: 0.9295\n",
            "Epoch 111/200\n",
            "375/375 [==============================] - 1s 2ms/step - loss: 0.2203 - accuracy: 0.9397 - val_loss: 0.2737 - val_accuracy: 0.9290\n",
            "Epoch 112/200\n",
            "375/375 [==============================] - 1s 2ms/step - loss: 0.2200 - accuracy: 0.9388 - val_loss: 0.2729 - val_accuracy: 0.9295\n",
            "Epoch 113/200\n",
            "375/375 [==============================] - 1s 2ms/step - loss: 0.2197 - accuracy: 0.9382 - val_loss: 0.2730 - val_accuracy: 0.9296\n",
            "Epoch 114/200\n",
            "375/375 [==============================] - 1s 2ms/step - loss: 0.2195 - accuracy: 0.9387 - val_loss: 0.2737 - val_accuracy: 0.9290\n",
            "Epoch 115/200\n",
            "375/375 [==============================] - 1s 2ms/step - loss: 0.2201 - accuracy: 0.9388 - val_loss: 0.2741 - val_accuracy: 0.9292\n",
            "Epoch 116/200\n",
            "375/375 [==============================] - 1s 2ms/step - loss: 0.2197 - accuracy: 0.9382 - val_loss: 0.2743 - val_accuracy: 0.9298\n",
            "Epoch 117/200\n",
            "375/375 [==============================] - 1s 2ms/step - loss: 0.2193 - accuracy: 0.9393 - val_loss: 0.2743 - val_accuracy: 0.9293\n",
            "Epoch 118/200\n",
            "375/375 [==============================] - 1s 2ms/step - loss: 0.2194 - accuracy: 0.9392 - val_loss: 0.2744 - val_accuracy: 0.9285\n",
            "Epoch 119/200\n",
            "375/375 [==============================] - 1s 2ms/step - loss: 0.2190 - accuracy: 0.9389 - val_loss: 0.2749 - val_accuracy: 0.9298\n",
            "Epoch 120/200\n",
            "375/375 [==============================] - 1s 2ms/step - loss: 0.2194 - accuracy: 0.9387 - val_loss: 0.2744 - val_accuracy: 0.9293\n",
            "Epoch 121/200\n",
            "375/375 [==============================] - 1s 2ms/step - loss: 0.2192 - accuracy: 0.9392 - val_loss: 0.2745 - val_accuracy: 0.9300\n",
            "Epoch 122/200\n",
            "375/375 [==============================] - 1s 2ms/step - loss: 0.2186 - accuracy: 0.9394 - val_loss: 0.2747 - val_accuracy: 0.9289\n",
            "Epoch 123/200\n",
            "375/375 [==============================] - 1s 2ms/step - loss: 0.2187 - accuracy: 0.9395 - val_loss: 0.2735 - val_accuracy: 0.9291\n",
            "Epoch 124/200\n",
            "375/375 [==============================] - 1s 2ms/step - loss: 0.2184 - accuracy: 0.9395 - val_loss: 0.2744 - val_accuracy: 0.9287\n",
            "Epoch 125/200\n",
            "375/375 [==============================] - 1s 2ms/step - loss: 0.2186 - accuracy: 0.9393 - val_loss: 0.2766 - val_accuracy: 0.9293\n",
            "Epoch 126/200\n",
            "375/375 [==============================] - 1s 2ms/step - loss: 0.2183 - accuracy: 0.9398 - val_loss: 0.2751 - val_accuracy: 0.9301\n",
            "Epoch 127/200\n",
            "375/375 [==============================] - 1s 2ms/step - loss: 0.2186 - accuracy: 0.9385 - val_loss: 0.2762 - val_accuracy: 0.9292\n",
            "Epoch 128/200\n",
            "375/375 [==============================] - 1s 2ms/step - loss: 0.2183 - accuracy: 0.9393 - val_loss: 0.2750 - val_accuracy: 0.9288\n",
            "Epoch 129/200\n",
            "375/375 [==============================] - 1s 2ms/step - loss: 0.2182 - accuracy: 0.9387 - val_loss: 0.2757 - val_accuracy: 0.9290\n",
            "Epoch 130/200\n",
            "375/375 [==============================] - 1s 2ms/step - loss: 0.2181 - accuracy: 0.9395 - val_loss: 0.2754 - val_accuracy: 0.9291\n",
            "Epoch 131/200\n",
            "375/375 [==============================] - 1s 2ms/step - loss: 0.2184 - accuracy: 0.9382 - val_loss: 0.2765 - val_accuracy: 0.9287\n",
            "Epoch 132/200\n",
            "375/375 [==============================] - 1s 2ms/step - loss: 0.2180 - accuracy: 0.9393 - val_loss: 0.2768 - val_accuracy: 0.9289\n",
            "Epoch 133/200\n",
            "375/375 [==============================] - 1s 2ms/step - loss: 0.2179 - accuracy: 0.9388 - val_loss: 0.2773 - val_accuracy: 0.9284\n",
            "Epoch 134/200\n",
            "375/375 [==============================] - 1s 2ms/step - loss: 0.2178 - accuracy: 0.9399 - val_loss: 0.2768 - val_accuracy: 0.9298\n",
            "Epoch 135/200\n",
            "375/375 [==============================] - 1s 2ms/step - loss: 0.2179 - accuracy: 0.9391 - val_loss: 0.2764 - val_accuracy: 0.9282\n",
            "Epoch 136/200\n",
            "375/375 [==============================] - 1s 2ms/step - loss: 0.2177 - accuracy: 0.9392 - val_loss: 0.2763 - val_accuracy: 0.9286\n",
            "Epoch 137/200\n",
            "375/375 [==============================] - 1s 2ms/step - loss: 0.2173 - accuracy: 0.9395 - val_loss: 0.2766 - val_accuracy: 0.9283\n",
            "Epoch 138/200\n",
            "375/375 [==============================] - 1s 2ms/step - loss: 0.2171 - accuracy: 0.9396 - val_loss: 0.2763 - val_accuracy: 0.9283\n",
            "Epoch 139/200\n",
            "375/375 [==============================] - 1s 3ms/step - loss: 0.2169 - accuracy: 0.9396 - val_loss: 0.2771 - val_accuracy: 0.9289\n",
            "Epoch 140/200\n",
            "375/375 [==============================] - 1s 2ms/step - loss: 0.2173 - accuracy: 0.9389 - val_loss: 0.2769 - val_accuracy: 0.9286\n",
            "Epoch 141/200\n",
            "375/375 [==============================] - 1s 2ms/step - loss: 0.2171 - accuracy: 0.9393 - val_loss: 0.2770 - val_accuracy: 0.9281\n",
            "Epoch 142/200\n",
            "375/375 [==============================] - 1s 2ms/step - loss: 0.2171 - accuracy: 0.9396 - val_loss: 0.2789 - val_accuracy: 0.9287\n",
            "Epoch 143/200\n",
            "375/375 [==============================] - 1s 2ms/step - loss: 0.2172 - accuracy: 0.9396 - val_loss: 0.2767 - val_accuracy: 0.9285\n",
            "Epoch 144/200\n",
            "375/375 [==============================] - 1s 2ms/step - loss: 0.2169 - accuracy: 0.9394 - val_loss: 0.2796 - val_accuracy: 0.9268\n",
            "Epoch 145/200\n",
            "375/375 [==============================] - 1s 3ms/step - loss: 0.2167 - accuracy: 0.9399 - val_loss: 0.2787 - val_accuracy: 0.9289\n",
            "Epoch 146/200\n",
            "375/375 [==============================] - 1s 2ms/step - loss: 0.2166 - accuracy: 0.9396 - val_loss: 0.2782 - val_accuracy: 0.9278\n",
            "Epoch 147/200\n",
            "375/375 [==============================] - 1s 2ms/step - loss: 0.2163 - accuracy: 0.9397 - val_loss: 0.2785 - val_accuracy: 0.9278\n",
            "Epoch 148/200\n",
            "375/375 [==============================] - 1s 2ms/step - loss: 0.2166 - accuracy: 0.9395 - val_loss: 0.2782 - val_accuracy: 0.9292\n",
            "Epoch 149/200\n",
            "375/375 [==============================] - 1s 2ms/step - loss: 0.2166 - accuracy: 0.9400 - val_loss: 0.2817 - val_accuracy: 0.9272\n",
            "Epoch 150/200\n",
            "375/375 [==============================] - 1s 2ms/step - loss: 0.2162 - accuracy: 0.9390 - val_loss: 0.2788 - val_accuracy: 0.9281\n",
            "Epoch 151/200\n",
            "375/375 [==============================] - 1s 2ms/step - loss: 0.2163 - accuracy: 0.9396 - val_loss: 0.2791 - val_accuracy: 0.9275\n",
            "Epoch 152/200\n",
            "375/375 [==============================] - 1s 2ms/step - loss: 0.2160 - accuracy: 0.9401 - val_loss: 0.2797 - val_accuracy: 0.9287\n",
            "Epoch 153/200\n",
            "375/375 [==============================] - 1s 2ms/step - loss: 0.2162 - accuracy: 0.9394 - val_loss: 0.2801 - val_accuracy: 0.9273\n",
            "Epoch 154/200\n",
            "375/375 [==============================] - 1s 2ms/step - loss: 0.2160 - accuracy: 0.9399 - val_loss: 0.2807 - val_accuracy: 0.9287\n",
            "Epoch 155/200\n",
            "375/375 [==============================] - 1s 2ms/step - loss: 0.2159 - accuracy: 0.9398 - val_loss: 0.2788 - val_accuracy: 0.9292\n",
            "Epoch 156/200\n",
            "375/375 [==============================] - 1s 2ms/step - loss: 0.2159 - accuracy: 0.9396 - val_loss: 0.2805 - val_accuracy: 0.9288\n",
            "Epoch 157/200\n",
            "375/375 [==============================] - 1s 2ms/step - loss: 0.2159 - accuracy: 0.9394 - val_loss: 0.2785 - val_accuracy: 0.9296\n",
            "Epoch 158/200\n",
            "375/375 [==============================] - 1s 2ms/step - loss: 0.2156 - accuracy: 0.9393 - val_loss: 0.2795 - val_accuracy: 0.9274\n",
            "Epoch 159/200\n",
            "375/375 [==============================] - 1s 2ms/step - loss: 0.2158 - accuracy: 0.9387 - val_loss: 0.2798 - val_accuracy: 0.9288\n",
            "Epoch 160/200\n",
            "375/375 [==============================] - 1s 2ms/step - loss: 0.2153 - accuracy: 0.9401 - val_loss: 0.2806 - val_accuracy: 0.9283\n",
            "Epoch 161/200\n",
            "375/375 [==============================] - 1s 2ms/step - loss: 0.2151 - accuracy: 0.9403 - val_loss: 0.2799 - val_accuracy: 0.9274\n",
            "Epoch 162/200\n",
            "375/375 [==============================] - 1s 3ms/step - loss: 0.2154 - accuracy: 0.9398 - val_loss: 0.2805 - val_accuracy: 0.9280\n",
            "Epoch 163/200\n",
            "375/375 [==============================] - 1s 2ms/step - loss: 0.2153 - accuracy: 0.9394 - val_loss: 0.2806 - val_accuracy: 0.9280\n",
            "Epoch 164/200\n",
            "375/375 [==============================] - 1s 2ms/step - loss: 0.2156 - accuracy: 0.9400 - val_loss: 0.2798 - val_accuracy: 0.9286\n",
            "Epoch 165/200\n",
            "375/375 [==============================] - 1s 2ms/step - loss: 0.2149 - accuracy: 0.9393 - val_loss: 0.2811 - val_accuracy: 0.9281\n",
            "Epoch 166/200\n",
            "375/375 [==============================] - 1s 3ms/step - loss: 0.2149 - accuracy: 0.9401 - val_loss: 0.2793 - val_accuracy: 0.9287\n",
            "Epoch 167/200\n",
            "375/375 [==============================] - 1s 3ms/step - loss: 0.2149 - accuracy: 0.9398 - val_loss: 0.2798 - val_accuracy: 0.9296\n",
            "Epoch 168/200\n",
            "375/375 [==============================] - 1s 3ms/step - loss: 0.2150 - accuracy: 0.9399 - val_loss: 0.2823 - val_accuracy: 0.9272\n",
            "Epoch 169/200\n",
            "375/375 [==============================] - 1s 2ms/step - loss: 0.2149 - accuracy: 0.9395 - val_loss: 0.2806 - val_accuracy: 0.9277\n",
            "Epoch 170/200\n",
            "375/375 [==============================] - 1s 2ms/step - loss: 0.2148 - accuracy: 0.9395 - val_loss: 0.2829 - val_accuracy: 0.9272\n",
            "Epoch 171/200\n",
            "375/375 [==============================] - 1s 2ms/step - loss: 0.2148 - accuracy: 0.9397 - val_loss: 0.2821 - val_accuracy: 0.9272\n",
            "Epoch 172/200\n",
            "375/375 [==============================] - 1s 2ms/step - loss: 0.2147 - accuracy: 0.9399 - val_loss: 0.2822 - val_accuracy: 0.9279\n",
            "Epoch 173/200\n",
            "375/375 [==============================] - 1s 2ms/step - loss: 0.2149 - accuracy: 0.9396 - val_loss: 0.2823 - val_accuracy: 0.9280\n",
            "Epoch 174/200\n",
            "375/375 [==============================] - 1s 2ms/step - loss: 0.2146 - accuracy: 0.9398 - val_loss: 0.2813 - val_accuracy: 0.9280\n",
            "Epoch 175/200\n",
            "375/375 [==============================] - 1s 2ms/step - loss: 0.2146 - accuracy: 0.9402 - val_loss: 0.2819 - val_accuracy: 0.9274\n",
            "Epoch 176/200\n",
            "375/375 [==============================] - 1s 2ms/step - loss: 0.2141 - accuracy: 0.9400 - val_loss: 0.2808 - val_accuracy: 0.9284\n",
            "Epoch 177/200\n",
            "375/375 [==============================] - 1s 2ms/step - loss: 0.2144 - accuracy: 0.9402 - val_loss: 0.2810 - val_accuracy: 0.9283\n",
            "Epoch 178/200\n",
            "375/375 [==============================] - 1s 3ms/step - loss: 0.2142 - accuracy: 0.9398 - val_loss: 0.2826 - val_accuracy: 0.9283\n",
            "Epoch 179/200\n",
            "375/375 [==============================] - 1s 2ms/step - loss: 0.2142 - accuracy: 0.9404 - val_loss: 0.2848 - val_accuracy: 0.9262\n",
            "Epoch 180/200\n",
            "375/375 [==============================] - 1s 2ms/step - loss: 0.2142 - accuracy: 0.9394 - val_loss: 0.2828 - val_accuracy: 0.9279\n",
            "Epoch 181/200\n",
            "375/375 [==============================] - 1s 2ms/step - loss: 0.2139 - accuracy: 0.9395 - val_loss: 0.2817 - val_accuracy: 0.9276\n",
            "Epoch 182/200\n",
            "375/375 [==============================] - 1s 2ms/step - loss: 0.2138 - accuracy: 0.9404 - val_loss: 0.2826 - val_accuracy: 0.9275\n",
            "Epoch 183/200\n",
            "375/375 [==============================] - 1s 2ms/step - loss: 0.2137 - accuracy: 0.9403 - val_loss: 0.2833 - val_accuracy: 0.9273\n",
            "Epoch 184/200\n",
            "375/375 [==============================] - 1s 2ms/step - loss: 0.2138 - accuracy: 0.9395 - val_loss: 0.2835 - val_accuracy: 0.9274\n",
            "Epoch 185/200\n",
            "375/375 [==============================] - 1s 2ms/step - loss: 0.2143 - accuracy: 0.9397 - val_loss: 0.2842 - val_accuracy: 0.9273\n",
            "Epoch 186/200\n",
            "375/375 [==============================] - 1s 2ms/step - loss: 0.2133 - accuracy: 0.9399 - val_loss: 0.2823 - val_accuracy: 0.9277\n",
            "Epoch 187/200\n",
            "375/375 [==============================] - 1s 2ms/step - loss: 0.2135 - accuracy: 0.9398 - val_loss: 0.2834 - val_accuracy: 0.9275\n",
            "Epoch 188/200\n",
            "375/375 [==============================] - 1s 2ms/step - loss: 0.2137 - accuracy: 0.9400 - val_loss: 0.2839 - val_accuracy: 0.9268\n",
            "Epoch 189/200\n",
            "375/375 [==============================] - 1s 2ms/step - loss: 0.2138 - accuracy: 0.9396 - val_loss: 0.2818 - val_accuracy: 0.9281\n",
            "Epoch 190/200\n",
            "375/375 [==============================] - 1s 2ms/step - loss: 0.2135 - accuracy: 0.9402 - val_loss: 0.2832 - val_accuracy: 0.9259\n",
            "Epoch 191/200\n",
            "375/375 [==============================] - 1s 2ms/step - loss: 0.2136 - accuracy: 0.9403 - val_loss: 0.2827 - val_accuracy: 0.9277\n",
            "Epoch 192/200\n",
            "375/375 [==============================] - 1s 2ms/step - loss: 0.2135 - accuracy: 0.9396 - val_loss: 0.2831 - val_accuracy: 0.9268\n",
            "Epoch 193/200\n",
            "375/375 [==============================] - 1s 2ms/step - loss: 0.2133 - accuracy: 0.9402 - val_loss: 0.2817 - val_accuracy: 0.9278\n",
            "Epoch 194/200\n",
            "375/375 [==============================] - 1s 2ms/step - loss: 0.2132 - accuracy: 0.9401 - val_loss: 0.2858 - val_accuracy: 0.9258\n",
            "Epoch 195/200\n",
            "375/375 [==============================] - 1s 2ms/step - loss: 0.2129 - accuracy: 0.9398 - val_loss: 0.2831 - val_accuracy: 0.9275\n",
            "Epoch 196/200\n",
            "375/375 [==============================] - 1s 2ms/step - loss: 0.2129 - accuracy: 0.9402 - val_loss: 0.2839 - val_accuracy: 0.9270\n",
            "Epoch 197/200\n",
            "375/375 [==============================] - 1s 2ms/step - loss: 0.2127 - accuracy: 0.9405 - val_loss: 0.2852 - val_accuracy: 0.9277\n",
            "Epoch 198/200\n",
            "375/375 [==============================] - 1s 2ms/step - loss: 0.2132 - accuracy: 0.9399 - val_loss: 0.2840 - val_accuracy: 0.9277\n",
            "Epoch 199/200\n",
            "375/375 [==============================] - 1s 2ms/step - loss: 0.2129 - accuracy: 0.9408 - val_loss: 0.2836 - val_accuracy: 0.9271\n",
            "Epoch 200/200\n",
            "375/375 [==============================] - 1s 2ms/step - loss: 0.2130 - accuracy: 0.9401 - val_loss: 0.2852 - val_accuracy: 0.9258\n"
          ],
          "name": "stdout"
        },
        {
          "output_type": "execute_result",
          "data": {
            "text/plain": [
              "<keras.callbacks.History at 0x7f2ff61bd150>"
            ]
          },
          "metadata": {},
          "execution_count": 24
        }
      ]
    },
    {
      "cell_type": "code",
      "metadata": {
        "colab": {
          "base_uri": "https://localhost:8080/"
        },
        "id": "n0isPJEmEiwY",
        "outputId": "e35f263f-c4a5-4ced-aa35-5bbf9d59e249"
      },
      "source": [
        "#evaluate the model\n",
        "test_loss, test_acc = model.evaluate(X_test, y_test)\n",
        "print('Test accuracy:',test_acc)"
      ],
      "execution_count": null,
      "outputs": [
        {
          "output_type": "stream",
          "text": [
            "313/313 [==============================] - 1s 2ms/step - loss: 0.2992 - accuracy: 0.9249\n",
            "Test accuracy: 0.9248999953269958\n"
          ],
          "name": "stdout"
        }
      ]
    },
    {
      "cell_type": "code",
      "metadata": {
        "cellView": "form",
        "id": "U032nw5JEizx"
      },
      "source": [
        "#@title Improving the simple net with Hidden layers \n",
        "#@ Improving the simple net with Hidden layers \n"
      ],
      "execution_count": null,
      "outputs": []
    },
    {
      "cell_type": "code",
      "metadata": {
        "id": "p5-FJlaZJgQ-"
      },
      "source": [
        "EPOCHS=50\n",
        "BATCH_SIZE = 128\n",
        "VERBOSE = 1\n",
        "NB_CLASSES = 10\n",
        "N_HIDDEN = 128\n",
        "VALIDATION_SPLIT = 0.2\n",
        "RESHAPED=784"
      ],
      "execution_count": null,
      "outputs": []
    },
    {
      "cell_type": "code",
      "metadata": {
        "id": "VBPKY6gAJgTa"
      },
      "source": [
        "mnist = keras.datasets.mnist"
      ],
      "execution_count": null,
      "outputs": []
    },
    {
      "cell_type": "code",
      "metadata": {
        "id": "hwqH3LZYJgWD"
      },
      "source": [
        "(X_train, y_train), (X_test, y_test) = mnist.load_data()"
      ],
      "execution_count": null,
      "outputs": []
    },
    {
      "cell_type": "code",
      "metadata": {
        "id": "2FDAMfdVJgYv"
      },
      "source": [
        "X_train = X_train.reshape(60000, RESHAPED)\n",
        "X_test = X_test.reshape(10000, RESHAPED)\n",
        "X_train = X_train.astype('float32')\n",
        "X_test = X_test.astype('float32')"
      ],
      "execution_count": null,
      "outputs": []
    },
    {
      "cell_type": "code",
      "metadata": {
        "id": "hUCOBOqCJgbh"
      },
      "source": [
        "X_train, X_test = X_train / 255.0, X_test / 255.0"
      ],
      "execution_count": null,
      "outputs": []
    },
    {
      "cell_type": "code",
      "metadata": {
        "colab": {
          "base_uri": "https://localhost:8080/"
        },
        "id": "35I040VeJgeH",
        "outputId": "89393e68-d285-4dd7-85be-da61e4a17ac1"
      },
      "source": [
        "print(X_train.shape[0],'train samp')\n",
        "print(X_test.shape[0],'test samp')"
      ],
      "execution_count": null,
      "outputs": [
        {
          "output_type": "stream",
          "text": [
            "60000 train samp\n",
            "10000 test samp\n"
          ],
          "name": "stdout"
        }
      ]
    },
    {
      "cell_type": "code",
      "metadata": {
        "id": "M0MtI_XUJggd"
      },
      "source": [
        "y_train = tf.keras.utils.to_categorical(y_train, NB_CLASSES)\n",
        "y_test = tf.keras.utils.to_categorical(y_test,NB_CLASSES)"
      ],
      "execution_count": null,
      "outputs": []
    },
    {
      "cell_type": "code",
      "metadata": {
        "id": "S_Xf3gGMJgjD"
      },
      "source": [
        "# Build the model\n",
        "model = tf.keras.models.Sequential()\n"
      ],
      "execution_count": null,
      "outputs": []
    },
    {
      "cell_type": "code",
      "metadata": {
        "id": "bzwSpAgXJgld"
      },
      "source": [
        "model.add(keras.layers.Dense(N_HIDDEN,input_shape=(RESHAPED,), name='dense_layer',activation='relu'))\n",
        "model.add(keras.layers.Dense(N_HIDDEN,input_shape=(RESHAPED,), name='dense_layer_2',activation='relu'))\n",
        "model.add(keras.layers.Dense(NB_CLASSES,input_shape=(RESHAPED,), name='dense_layer_3',activation='softmax'))\n"
      ],
      "execution_count": null,
      "outputs": []
    },
    {
      "cell_type": "code",
      "metadata": {
        "colab": {
          "base_uri": "https://localhost:8080/"
        },
        "id": "MRxDMJSUJgo1",
        "outputId": "7a30e8d3-8571-4d48-e9c2-71d73d243e66"
      },
      "source": [
        "model.summary()"
      ],
      "execution_count": null,
      "outputs": [
        {
          "output_type": "stream",
          "text": [
            "Model: \"sequential_1\"\n",
            "_________________________________________________________________\n",
            "Layer (type)                 Output Shape              Param #   \n",
            "=================================================================\n",
            "dense_layer (Dense)          (None, 128)               100480    \n",
            "_________________________________________________________________\n",
            "dense_layer_2 (Dense)        (None, 128)               16512     \n",
            "_________________________________________________________________\n",
            "dense_layer_3 (Dense)        (None, 10)                1290      \n",
            "=================================================================\n",
            "Total params: 118,282\n",
            "Trainable params: 118,282\n",
            "Non-trainable params: 0\n",
            "_________________________________________________________________\n"
          ],
          "name": "stdout"
        }
      ]
    },
    {
      "cell_type": "code",
      "metadata": {
        "id": "JNN6SHSlJgqj"
      },
      "source": [
        "model.compile(optimizer='Adam',loss='categorical_crossentropy',metrics=['accuracy'])"
      ],
      "execution_count": null,
      "outputs": []
    },
    {
      "cell_type": "code",
      "metadata": {
        "colab": {
          "base_uri": "https://localhost:8080/"
        },
        "id": "XLNo3DkCJgs9",
        "outputId": "7f8002c7-ea1e-418e-9099-7b7c48483baf"
      },
      "source": [
        "model.fit(X_train,y_train,validation_split=VALIDATION_SPLIT,epochs=EPOCHS,batch_size=BATCH_SIZE,verbose=VERBOSE)"
      ],
      "execution_count": null,
      "outputs": [
        {
          "output_type": "stream",
          "text": [
            "Epoch 1/50\n",
            "375/375 [==============================] - 2s 4ms/step - loss: 0.3560 - accuracy: 0.8994 - val_loss: 0.1732 - val_accuracy: 0.9517\n",
            "Epoch 2/50\n",
            "375/375 [==============================] - 1s 3ms/step - loss: 0.1480 - accuracy: 0.9570 - val_loss: 0.1405 - val_accuracy: 0.9592\n",
            "Epoch 3/50\n",
            "375/375 [==============================] - 1s 3ms/step - loss: 0.1000 - accuracy: 0.9705 - val_loss: 0.1131 - val_accuracy: 0.9652\n",
            "Epoch 4/50\n",
            "375/375 [==============================] - 1s 3ms/step - loss: 0.0760 - accuracy: 0.9772 - val_loss: 0.0982 - val_accuracy: 0.9714\n",
            "Epoch 5/50\n",
            "375/375 [==============================] - 1s 3ms/step - loss: 0.0590 - accuracy: 0.9819 - val_loss: 0.0969 - val_accuracy: 0.9724\n",
            "Epoch 6/50\n",
            "375/375 [==============================] - 1s 3ms/step - loss: 0.0481 - accuracy: 0.9852 - val_loss: 0.1060 - val_accuracy: 0.9689\n",
            "Epoch 7/50\n",
            "375/375 [==============================] - 1s 3ms/step - loss: 0.0362 - accuracy: 0.9893 - val_loss: 0.1028 - val_accuracy: 0.9715\n",
            "Epoch 8/50\n",
            "375/375 [==============================] - 1s 3ms/step - loss: 0.0295 - accuracy: 0.9911 - val_loss: 0.1051 - val_accuracy: 0.9707\n",
            "Epoch 9/50\n",
            "375/375 [==============================] - 1s 3ms/step - loss: 0.0246 - accuracy: 0.9929 - val_loss: 0.0912 - val_accuracy: 0.9741\n",
            "Epoch 10/50\n",
            "375/375 [==============================] - 1s 3ms/step - loss: 0.0188 - accuracy: 0.9940 - val_loss: 0.0996 - val_accuracy: 0.9728\n",
            "Epoch 11/50\n",
            "375/375 [==============================] - 1s 3ms/step - loss: 0.0166 - accuracy: 0.9952 - val_loss: 0.0993 - val_accuracy: 0.9744\n",
            "Epoch 12/50\n",
            "375/375 [==============================] - 1s 3ms/step - loss: 0.0164 - accuracy: 0.9945 - val_loss: 0.1062 - val_accuracy: 0.9749\n",
            "Epoch 13/50\n",
            "375/375 [==============================] - 1s 3ms/step - loss: 0.0112 - accuracy: 0.9967 - val_loss: 0.1054 - val_accuracy: 0.9752\n",
            "Epoch 14/50\n",
            "375/375 [==============================] - 1s 3ms/step - loss: 0.0120 - accuracy: 0.9963 - val_loss: 0.1093 - val_accuracy: 0.9745\n",
            "Epoch 15/50\n",
            "375/375 [==============================] - 1s 3ms/step - loss: 0.0087 - accuracy: 0.9975 - val_loss: 0.1430 - val_accuracy: 0.9689\n",
            "Epoch 16/50\n",
            "375/375 [==============================] - 1s 3ms/step - loss: 0.0102 - accuracy: 0.9970 - val_loss: 0.1181 - val_accuracy: 0.9737\n",
            "Epoch 17/50\n",
            "375/375 [==============================] - 1s 3ms/step - loss: 0.0100 - accuracy: 0.9969 - val_loss: 0.1358 - val_accuracy: 0.9728\n",
            "Epoch 18/50\n",
            "375/375 [==============================] - 1s 3ms/step - loss: 0.0130 - accuracy: 0.9957 - val_loss: 0.1248 - val_accuracy: 0.9746\n",
            "Epoch 19/50\n",
            "375/375 [==============================] - 1s 3ms/step - loss: 0.0110 - accuracy: 0.9959 - val_loss: 0.1336 - val_accuracy: 0.9743\n",
            "Epoch 20/50\n",
            "375/375 [==============================] - 1s 3ms/step - loss: 0.0047 - accuracy: 0.9985 - val_loss: 0.1391 - val_accuracy: 0.9747\n",
            "Epoch 21/50\n",
            "375/375 [==============================] - 1s 3ms/step - loss: 0.0056 - accuracy: 0.9983 - val_loss: 0.1385 - val_accuracy: 0.9750\n",
            "Epoch 22/50\n",
            "375/375 [==============================] - 1s 3ms/step - loss: 0.0039 - accuracy: 0.9988 - val_loss: 0.1446 - val_accuracy: 0.9740\n",
            "Epoch 23/50\n",
            "375/375 [==============================] - 1s 3ms/step - loss: 0.0065 - accuracy: 0.9977 - val_loss: 0.1525 - val_accuracy: 0.9727\n",
            "Epoch 24/50\n",
            "375/375 [==============================] - 1s 3ms/step - loss: 0.0123 - accuracy: 0.9957 - val_loss: 0.1535 - val_accuracy: 0.9726\n",
            "Epoch 25/50\n",
            "375/375 [==============================] - 1s 3ms/step - loss: 0.0081 - accuracy: 0.9972 - val_loss: 0.1479 - val_accuracy: 0.9738\n",
            "Epoch 26/50\n",
            "375/375 [==============================] - 1s 3ms/step - loss: 0.0026 - accuracy: 0.9991 - val_loss: 0.1386 - val_accuracy: 0.9768\n",
            "Epoch 27/50\n",
            "375/375 [==============================] - 1s 3ms/step - loss: 0.0062 - accuracy: 0.9980 - val_loss: 0.1361 - val_accuracy: 0.9751\n",
            "Epoch 28/50\n",
            "375/375 [==============================] - 1s 3ms/step - loss: 0.0063 - accuracy: 0.9978 - val_loss: 0.1521 - val_accuracy: 0.9742\n",
            "Epoch 29/50\n",
            "375/375 [==============================] - 1s 3ms/step - loss: 0.0044 - accuracy: 0.9985 - val_loss: 0.1366 - val_accuracy: 0.9766\n",
            "Epoch 30/50\n",
            "375/375 [==============================] - 1s 3ms/step - loss: 0.0019 - accuracy: 0.9995 - val_loss: 0.1378 - val_accuracy: 0.9776\n",
            "Epoch 31/50\n",
            "375/375 [==============================] - 1s 3ms/step - loss: 4.2949e-04 - accuracy: 1.0000 - val_loss: 0.1328 - val_accuracy: 0.9784\n",
            "Epoch 32/50\n",
            "375/375 [==============================] - 1s 3ms/step - loss: 1.1391e-04 - accuracy: 1.0000 - val_loss: 0.1318 - val_accuracy: 0.9788\n",
            "Epoch 33/50\n",
            "375/375 [==============================] - 1s 3ms/step - loss: 7.8559e-05 - accuracy: 1.0000 - val_loss: 0.1344 - val_accuracy: 0.9793\n",
            "Epoch 34/50\n",
            "375/375 [==============================] - 1s 3ms/step - loss: 6.2893e-05 - accuracy: 1.0000 - val_loss: 0.1352 - val_accuracy: 0.9793\n",
            "Epoch 35/50\n",
            "375/375 [==============================] - 1s 3ms/step - loss: 5.1875e-05 - accuracy: 1.0000 - val_loss: 0.1364 - val_accuracy: 0.9790\n",
            "Epoch 36/50\n",
            "375/375 [==============================] - 1s 3ms/step - loss: 4.4813e-05 - accuracy: 1.0000 - val_loss: 0.1378 - val_accuracy: 0.9789\n",
            "Epoch 37/50\n",
            "375/375 [==============================] - 1s 3ms/step - loss: 3.7930e-05 - accuracy: 1.0000 - val_loss: 0.1393 - val_accuracy: 0.9788\n",
            "Epoch 38/50\n",
            "375/375 [==============================] - 1s 3ms/step - loss: 3.3021e-05 - accuracy: 1.0000 - val_loss: 0.1405 - val_accuracy: 0.9789\n",
            "Epoch 39/50\n",
            "375/375 [==============================] - 1s 3ms/step - loss: 2.8559e-05 - accuracy: 1.0000 - val_loss: 0.1420 - val_accuracy: 0.9790\n",
            "Epoch 40/50\n",
            "375/375 [==============================] - 1s 3ms/step - loss: 2.4729e-05 - accuracy: 1.0000 - val_loss: 0.1433 - val_accuracy: 0.9792\n",
            "Epoch 41/50\n",
            "375/375 [==============================] - 1s 3ms/step - loss: 2.1864e-05 - accuracy: 1.0000 - val_loss: 0.1443 - val_accuracy: 0.9792\n",
            "Epoch 42/50\n",
            "375/375 [==============================] - 1s 3ms/step - loss: 1.8405e-05 - accuracy: 1.0000 - val_loss: 0.1461 - val_accuracy: 0.9788\n",
            "Epoch 43/50\n",
            "375/375 [==============================] - 1s 3ms/step - loss: 1.5695e-05 - accuracy: 1.0000 - val_loss: 0.1470 - val_accuracy: 0.9797\n",
            "Epoch 44/50\n",
            "375/375 [==============================] - 1s 3ms/step - loss: 1.4302e-05 - accuracy: 1.0000 - val_loss: 0.1505 - val_accuracy: 0.9788\n",
            "Epoch 45/50\n",
            "375/375 [==============================] - 1s 3ms/step - loss: 1.2041e-05 - accuracy: 1.0000 - val_loss: 0.1510 - val_accuracy: 0.9794\n",
            "Epoch 46/50\n",
            "375/375 [==============================] - 1s 3ms/step - loss: 1.0445e-05 - accuracy: 1.0000 - val_loss: 0.1533 - val_accuracy: 0.9794\n",
            "Epoch 47/50\n",
            "375/375 [==============================] - 1s 3ms/step - loss: 8.7352e-06 - accuracy: 1.0000 - val_loss: 0.1544 - val_accuracy: 0.9795\n",
            "Epoch 48/50\n",
            "375/375 [==============================] - 1s 3ms/step - loss: 7.3879e-06 - accuracy: 1.0000 - val_loss: 0.1568 - val_accuracy: 0.9793\n",
            "Epoch 49/50\n",
            "375/375 [==============================] - 1s 3ms/step - loss: 6.2432e-06 - accuracy: 1.0000 - val_loss: 0.1591 - val_accuracy: 0.9792\n",
            "Epoch 50/50\n",
            "375/375 [==============================] - 1s 3ms/step - loss: 5.3460e-06 - accuracy: 1.0000 - val_loss: 0.1605 - val_accuracy: 0.9795\n"
          ],
          "name": "stdout"
        },
        {
          "output_type": "execute_result",
          "data": {
            "text/plain": [
              "<keras.callbacks.History at 0x7f2fb6e0fc90>"
            ]
          },
          "metadata": {},
          "execution_count": 47
        }
      ]
    },
    {
      "cell_type": "code",
      "metadata": {
        "colab": {
          "base_uri": "https://localhost:8080/"
        },
        "id": "C54NaUIhJgvO",
        "outputId": "e3147848-0db1-4593-c931-274e5b214b3e"
      },
      "source": [
        "test_loss, test_acc = model.evaluate(X_test,y_test)"
      ],
      "execution_count": null,
      "outputs": [
        {
          "output_type": "stream",
          "text": [
            "313/313 [==============================] - 1s 2ms/step - loss: 0.1331 - accuracy: 0.9813\n"
          ],
          "name": "stdout"
        }
      ]
    },
    {
      "cell_type": "code",
      "metadata": {
        "colab": {
          "base_uri": "https://localhost:8080/"
        },
        "id": "ctUpGgfrJgxc",
        "outputId": "ef921168-5ee6-44bb-f770-720e97891a76"
      },
      "source": [
        "print('Test accuracy:', test_acc)"
      ],
      "execution_count": null,
      "outputs": [
        {
          "output_type": "stream",
          "text": [
            "Test accuracy: 0.9812999963760376\n"
          ],
          "name": "stdout"
        }
      ]
    },
    {
      "cell_type": "code",
      "metadata": {
        "id": "gBcUTkr8Jg1R"
      },
      "source": [
        "import tensorflow as tf\n",
        "import numpy as np\n",
        "from tensorflow import keras"
      ],
      "execution_count": null,
      "outputs": []
    },
    {
      "cell_type": "code",
      "metadata": {
        "id": "n_swJoEZJg4q"
      },
      "source": [
        "EPOCHS=200\n",
        "BATCH_SIZE=128\n",
        "VERBOSE=1\n",
        "NB_CLASSES=10\n",
        "N_HIDDEN=128\n",
        "VALIDATION_SPLIT=0.2\n",
        "DROPOUT=0.3"
      ],
      "execution_count": null,
      "outputs": []
    },
    {
      "cell_type": "code",
      "metadata": {
        "id": "76LKQUtqJhBe"
      },
      "source": [
        "# Loading mnist dataset\n",
        "mnist = keras.datasets.mnist\n",
        "RESHAPED=784"
      ],
      "execution_count": null,
      "outputs": []
    },
    {
      "cell_type": "code",
      "metadata": {
        "id": "tiBQ0ABfGtx3",
        "colab": {
          "base_uri": "https://localhost:8080/"
        },
        "outputId": "51acf76f-a5cc-457d-8ca2-0b8b741bde6d"
      },
      "source": [
        "(X_train, y_train), (X_test, y_test) = mnist.load_data()"
      ],
      "execution_count": null,
      "outputs": [
        {
          "output_type": "stream",
          "text": [
            "Downloading data from https://storage.googleapis.com/tensorflow/tf-keras-datasets/mnist.npz\n",
            "11493376/11490434 [==============================] - 0s 0us/step\n",
            "11501568/11490434 [==============================] - 0s 0us/step\n"
          ],
          "name": "stdout"
        }
      ]
    },
    {
      "cell_type": "code",
      "metadata": {
        "id": "i9oz4LNmGt1Z"
      },
      "source": [
        "X_train = X_train.reshape(X_train.shape[0],RESHAPED)\n",
        "X_test = X_test.reshape(X_test.shape[0], RESHAPED)"
      ],
      "execution_count": null,
      "outputs": []
    },
    {
      "cell_type": "code",
      "metadata": {
        "id": "Khxu-JE2b7KO"
      },
      "source": [
        "y_train = tf.keras.utils.to_categorical(y_train,NB_CLASSES)\n",
        "y_test = tf.keras.utils.to_categorical(y_test, NB_CLASSES)"
      ],
      "execution_count": null,
      "outputs": []
    },
    {
      "cell_type": "code",
      "metadata": {
        "id": "aHm6zSqLb7NF"
      },
      "source": [
        "X_train = X_train.astype('float32')\n",
        "X_test = X_test.astype('float32')"
      ],
      "execution_count": null,
      "outputs": []
    },
    {
      "cell_type": "code",
      "metadata": {
        "id": "Df4e6OlQb7QD"
      },
      "source": [
        "X_train = X_train / 255.0\n",
        "X_test = X_test / 255.0"
      ],
      "execution_count": null,
      "outputs": []
    },
    {
      "cell_type": "code",
      "metadata": {
        "colab": {
          "base_uri": "https://localhost:8080/"
        },
        "id": "9LnOvH_Db7SP",
        "outputId": "272e83f6-9a6c-48c6-8034-b516a4a16131"
      },
      "source": [
        "print(X_train.shape[0],'train_samp')\n",
        "print(X_test.shape[0],'test_samp')"
      ],
      "execution_count": null,
      "outputs": [
        {
          "output_type": "stream",
          "text": [
            "60000 train_samp\n",
            "10000 test_samp\n"
          ],
          "name": "stdout"
        }
      ]
    },
    {
      "cell_type": "code",
      "metadata": {
        "id": "K0f-nSYhdeel"
      },
      "source": [
        "# Build the model\n",
        "model = tf.keras.models.Sequential()\n",
        "model.add(keras.layers.Dense(N_HIDDEN,name='dense_layer',input_shape=(RESHAPED,),activation='relu'))\n",
        "model.add(keras.layers.Dropout(DROPOUT))\n",
        "model.add(keras.layers.Dense(N_HIDDEN,name='dense_layer_2',activation='relu'))\n",
        "model.add(keras.layers.Dropout(DROPOUT))\n",
        "model.add(keras.layers.Dense(NB_CLASSES,name='dense_layer_3',activation='softmax'))"
      ],
      "execution_count": null,
      "outputs": []
    },
    {
      "cell_type": "code",
      "metadata": {
        "colab": {
          "base_uri": "https://localhost:8080/"
        },
        "id": "m6afgmdAdehD",
        "outputId": "2f5e9d58-ec0f-4745-baed-405e99493f7f"
      },
      "source": [
        "# Summary the model\n",
        "model.summary()"
      ],
      "execution_count": null,
      "outputs": [
        {
          "output_type": "stream",
          "text": [
            "Model: \"sequential_1\"\n",
            "_________________________________________________________________\n",
            "Layer (type)                 Output Shape              Param #   \n",
            "=================================================================\n",
            "dense_layer (Dense)          (None, 128)               100480    \n",
            "_________________________________________________________________\n",
            "dropout_2 (Dropout)          (None, 128)               0         \n",
            "_________________________________________________________________\n",
            "dense_layer_2 (Dense)        (None, 128)               16512     \n",
            "_________________________________________________________________\n",
            "dropout_3 (Dropout)          (None, 128)               0         \n",
            "_________________________________________________________________\n",
            "dense_layer_3 (Dense)        (None, 10)                1290      \n",
            "=================================================================\n",
            "Total params: 118,282\n",
            "Trainable params: 118,282\n",
            "Non-trainable params: 0\n",
            "_________________________________________________________________\n"
          ],
          "name": "stdout"
        }
      ]
    },
    {
      "cell_type": "code",
      "metadata": {
        "id": "i9qqFU3RdekD"
      },
      "source": [
        "model.compile(optimizer='Adam',loss='categorical_crossentropy',metrics=['acc'])"
      ],
      "execution_count": null,
      "outputs": []
    },
    {
      "cell_type": "code",
      "metadata": {
        "colab": {
          "base_uri": "https://localhost:8080/"
        },
        "id": "UBM__YHndel-",
        "outputId": "edd79cb1-c113-4ce5-f736-93e92fa59f50"
      },
      "source": [
        "model.fit(X_train,y_train,epochs=EPOCHS,verbose=VERBOSE,validation_split=VALIDATION_SPLIT,batch_size=BATCH_SIZE)"
      ],
      "execution_count": null,
      "outputs": [
        {
          "output_type": "stream",
          "text": [
            "Epoch 1/200\n",
            "375/375 [==============================] - 5s 5ms/step - loss: 0.5130 - acc: 0.8435 - val_loss: 0.1884 - val_acc: 0.9461\n",
            "Epoch 2/200\n",
            "375/375 [==============================] - 2s 4ms/step - loss: 0.2284 - acc: 0.9319 - val_loss: 0.1328 - val_acc: 0.9603\n",
            "Epoch 3/200\n",
            "375/375 [==============================] - 2s 4ms/step - loss: 0.1765 - acc: 0.9475 - val_loss: 0.1177 - val_acc: 0.9647\n",
            "Epoch 4/200\n",
            "375/375 [==============================] - 2s 4ms/step - loss: 0.1483 - acc: 0.9548 - val_loss: 0.0999 - val_acc: 0.9697\n",
            "Epoch 5/200\n",
            "375/375 [==============================] - 1s 4ms/step - loss: 0.1298 - acc: 0.9595 - val_loss: 0.0993 - val_acc: 0.9694\n",
            "Epoch 6/200\n",
            "375/375 [==============================] - 2s 4ms/step - loss: 0.1170 - acc: 0.9643 - val_loss: 0.0932 - val_acc: 0.9720\n",
            "Epoch 7/200\n",
            "375/375 [==============================] - 2s 4ms/step - loss: 0.1050 - acc: 0.9669 - val_loss: 0.0900 - val_acc: 0.9744\n",
            "Epoch 8/200\n",
            "375/375 [==============================] - 2s 4ms/step - loss: 0.0964 - acc: 0.9689 - val_loss: 0.0870 - val_acc: 0.9743\n",
            "Epoch 9/200\n",
            "375/375 [==============================] - 2s 4ms/step - loss: 0.0901 - acc: 0.9711 - val_loss: 0.0848 - val_acc: 0.9758\n",
            "Epoch 10/200\n",
            "375/375 [==============================] - 2s 4ms/step - loss: 0.0859 - acc: 0.9738 - val_loss: 0.0864 - val_acc: 0.9751\n",
            "Epoch 11/200\n",
            "375/375 [==============================] - 2s 4ms/step - loss: 0.0770 - acc: 0.9760 - val_loss: 0.0903 - val_acc: 0.9741\n",
            "Epoch 12/200\n",
            "375/375 [==============================] - 2s 4ms/step - loss: 0.0738 - acc: 0.9758 - val_loss: 0.0849 - val_acc: 0.9754\n",
            "Epoch 13/200\n",
            "375/375 [==============================] - 2s 4ms/step - loss: 0.0717 - acc: 0.9762 - val_loss: 0.0873 - val_acc: 0.9765\n",
            "Epoch 14/200\n",
            "375/375 [==============================] - 2s 4ms/step - loss: 0.0662 - acc: 0.9790 - val_loss: 0.0824 - val_acc: 0.9775\n",
            "Epoch 15/200\n",
            "375/375 [==============================] - 2s 4ms/step - loss: 0.0665 - acc: 0.9781 - val_loss: 0.0821 - val_acc: 0.9764\n",
            "Epoch 16/200\n",
            "375/375 [==============================] - 2s 4ms/step - loss: 0.0624 - acc: 0.9798 - val_loss: 0.0825 - val_acc: 0.9771\n",
            "Epoch 17/200\n",
            "375/375 [==============================] - 2s 4ms/step - loss: 0.0586 - acc: 0.9809 - val_loss: 0.0866 - val_acc: 0.9778\n",
            "Epoch 18/200\n",
            "375/375 [==============================] - 2s 4ms/step - loss: 0.0558 - acc: 0.9819 - val_loss: 0.0880 - val_acc: 0.9761\n",
            "Epoch 19/200\n",
            "375/375 [==============================] - 2s 4ms/step - loss: 0.0540 - acc: 0.9822 - val_loss: 0.0882 - val_acc: 0.9764\n",
            "Epoch 20/200\n",
            "375/375 [==============================] - 2s 4ms/step - loss: 0.0521 - acc: 0.9829 - val_loss: 0.0870 - val_acc: 0.9774\n",
            "Epoch 21/200\n",
            "375/375 [==============================] - 2s 4ms/step - loss: 0.0533 - acc: 0.9822 - val_loss: 0.0878 - val_acc: 0.9783\n",
            "Epoch 22/200\n",
            "375/375 [==============================] - 2s 4ms/step - loss: 0.0517 - acc: 0.9835 - val_loss: 0.0844 - val_acc: 0.9775\n",
            "Epoch 23/200\n",
            "375/375 [==============================] - 2s 4ms/step - loss: 0.0464 - acc: 0.9841 - val_loss: 0.0891 - val_acc: 0.9776\n",
            "Epoch 24/200\n",
            "375/375 [==============================] - 2s 4ms/step - loss: 0.0483 - acc: 0.9841 - val_loss: 0.0863 - val_acc: 0.9790\n",
            "Epoch 25/200\n",
            "375/375 [==============================] - 2s 4ms/step - loss: 0.0468 - acc: 0.9851 - val_loss: 0.0815 - val_acc: 0.9778\n",
            "Epoch 26/200\n",
            "375/375 [==============================] - 2s 4ms/step - loss: 0.0437 - acc: 0.9856 - val_loss: 0.0900 - val_acc: 0.9776\n",
            "Epoch 27/200\n",
            "375/375 [==============================] - 2s 4ms/step - loss: 0.0452 - acc: 0.9845 - val_loss: 0.0932 - val_acc: 0.9772\n",
            "Epoch 28/200\n",
            "375/375 [==============================] - 2s 4ms/step - loss: 0.0437 - acc: 0.9856 - val_loss: 0.0882 - val_acc: 0.9793\n",
            "Epoch 29/200\n",
            "375/375 [==============================] - 2s 4ms/step - loss: 0.0402 - acc: 0.9864 - val_loss: 0.0875 - val_acc: 0.9783\n",
            "Epoch 30/200\n",
            "375/375 [==============================] - 2s 4ms/step - loss: 0.0432 - acc: 0.9852 - val_loss: 0.0902 - val_acc: 0.9797\n",
            "Epoch 31/200\n",
            "375/375 [==============================] - 2s 4ms/step - loss: 0.0405 - acc: 0.9865 - val_loss: 0.0899 - val_acc: 0.9785\n",
            "Epoch 32/200\n",
            "375/375 [==============================] - 2s 4ms/step - loss: 0.0420 - acc: 0.9860 - val_loss: 0.0917 - val_acc: 0.9784\n",
            "Epoch 33/200\n",
            "375/375 [==============================] - 2s 4ms/step - loss: 0.0388 - acc: 0.9869 - val_loss: 0.0862 - val_acc: 0.9794\n",
            "Epoch 34/200\n",
            "375/375 [==============================] - 2s 4ms/step - loss: 0.0382 - acc: 0.9868 - val_loss: 0.0916 - val_acc: 0.9787\n",
            "Epoch 35/200\n",
            "375/375 [==============================] - 2s 4ms/step - loss: 0.0395 - acc: 0.9870 - val_loss: 0.0957 - val_acc: 0.9774\n",
            "Epoch 36/200\n",
            "375/375 [==============================] - 2s 4ms/step - loss: 0.0393 - acc: 0.9866 - val_loss: 0.0898 - val_acc: 0.9785\n",
            "Epoch 37/200\n",
            "375/375 [==============================] - 2s 4ms/step - loss: 0.0387 - acc: 0.9875 - val_loss: 0.0912 - val_acc: 0.9791\n",
            "Epoch 38/200\n",
            "375/375 [==============================] - 2s 4ms/step - loss: 0.0363 - acc: 0.9879 - val_loss: 0.0891 - val_acc: 0.9800\n",
            "Epoch 39/200\n",
            "375/375 [==============================] - 2s 4ms/step - loss: 0.0368 - acc: 0.9880 - val_loss: 0.0999 - val_acc: 0.9778\n",
            "Epoch 40/200\n",
            "375/375 [==============================] - 2s 4ms/step - loss: 0.0333 - acc: 0.9892 - val_loss: 0.0944 - val_acc: 0.9785\n",
            "Epoch 41/200\n",
            "375/375 [==============================] - 2s 4ms/step - loss: 0.0345 - acc: 0.9889 - val_loss: 0.0979 - val_acc: 0.9782\n",
            "Epoch 42/200\n",
            "375/375 [==============================] - 2s 4ms/step - loss: 0.0364 - acc: 0.9882 - val_loss: 0.0924 - val_acc: 0.9796\n",
            "Epoch 43/200\n",
            "375/375 [==============================] - 2s 4ms/step - loss: 0.0332 - acc: 0.9890 - val_loss: 0.0902 - val_acc: 0.9803\n",
            "Epoch 44/200\n",
            "375/375 [==============================] - 2s 4ms/step - loss: 0.0344 - acc: 0.9886 - val_loss: 0.0947 - val_acc: 0.9801\n",
            "Epoch 45/200\n",
            "375/375 [==============================] - 2s 4ms/step - loss: 0.0332 - acc: 0.9891 - val_loss: 0.0970 - val_acc: 0.9796\n",
            "Epoch 46/200\n",
            "375/375 [==============================] - 2s 4ms/step - loss: 0.0316 - acc: 0.9900 - val_loss: 0.0922 - val_acc: 0.9793\n",
            "Epoch 47/200\n",
            "375/375 [==============================] - 2s 4ms/step - loss: 0.0328 - acc: 0.9892 - val_loss: 0.0971 - val_acc: 0.9781\n",
            "Epoch 48/200\n",
            "375/375 [==============================] - 2s 4ms/step - loss: 0.0345 - acc: 0.9890 - val_loss: 0.0944 - val_acc: 0.9791\n",
            "Epoch 49/200\n",
            "375/375 [==============================] - 2s 4ms/step - loss: 0.0323 - acc: 0.9897 - val_loss: 0.0961 - val_acc: 0.9793\n",
            "Epoch 50/200\n",
            "375/375 [==============================] - 2s 4ms/step - loss: 0.0312 - acc: 0.9898 - val_loss: 0.0952 - val_acc: 0.9790\n",
            "Epoch 51/200\n",
            "375/375 [==============================] - 2s 4ms/step - loss: 0.0325 - acc: 0.9896 - val_loss: 0.0925 - val_acc: 0.9798\n",
            "Epoch 52/200\n",
            "375/375 [==============================] - 2s 4ms/step - loss: 0.0292 - acc: 0.9903 - val_loss: 0.0989 - val_acc: 0.9781\n",
            "Epoch 53/200\n",
            "375/375 [==============================] - 2s 4ms/step - loss: 0.0314 - acc: 0.9894 - val_loss: 0.1012 - val_acc: 0.9766\n",
            "Epoch 54/200\n",
            "375/375 [==============================] - 2s 4ms/step - loss: 0.0278 - acc: 0.9904 - val_loss: 0.0972 - val_acc: 0.9794\n",
            "Epoch 55/200\n",
            "375/375 [==============================] - 2s 5ms/step - loss: 0.0306 - acc: 0.9897 - val_loss: 0.0963 - val_acc: 0.9799\n",
            "Epoch 56/200\n",
            "375/375 [==============================] - 2s 4ms/step - loss: 0.0283 - acc: 0.9908 - val_loss: 0.1001 - val_acc: 0.9794\n",
            "Epoch 57/200\n",
            "375/375 [==============================] - 2s 4ms/step - loss: 0.0291 - acc: 0.9902 - val_loss: 0.0972 - val_acc: 0.9786\n",
            "Epoch 58/200\n",
            "375/375 [==============================] - 2s 4ms/step - loss: 0.0282 - acc: 0.9908 - val_loss: 0.0990 - val_acc: 0.9791\n",
            "Epoch 59/200\n",
            "375/375 [==============================] - 2s 4ms/step - loss: 0.0275 - acc: 0.9908 - val_loss: 0.0993 - val_acc: 0.9797\n",
            "Epoch 60/200\n",
            "375/375 [==============================] - 2s 4ms/step - loss: 0.0272 - acc: 0.9916 - val_loss: 0.1047 - val_acc: 0.9790\n",
            "Epoch 61/200\n",
            "375/375 [==============================] - 2s 4ms/step - loss: 0.0295 - acc: 0.9905 - val_loss: 0.0980 - val_acc: 0.9795\n",
            "Epoch 62/200\n",
            "375/375 [==============================] - 2s 4ms/step - loss: 0.0271 - acc: 0.9909 - val_loss: 0.1056 - val_acc: 0.9781\n",
            "Epoch 63/200\n",
            "375/375 [==============================] - 2s 4ms/step - loss: 0.0267 - acc: 0.9910 - val_loss: 0.1068 - val_acc: 0.9783\n",
            "Epoch 64/200\n",
            "375/375 [==============================] - 2s 4ms/step - loss: 0.0285 - acc: 0.9906 - val_loss: 0.1058 - val_acc: 0.9788\n",
            "Epoch 65/200\n",
            "375/375 [==============================] - 2s 4ms/step - loss: 0.0289 - acc: 0.9906 - val_loss: 0.1060 - val_acc: 0.9786\n",
            "Epoch 66/200\n",
            "375/375 [==============================] - 2s 4ms/step - loss: 0.0260 - acc: 0.9914 - val_loss: 0.1074 - val_acc: 0.9797\n",
            "Epoch 67/200\n",
            "375/375 [==============================] - 2s 4ms/step - loss: 0.0281 - acc: 0.9909 - val_loss: 0.1067 - val_acc: 0.9784\n",
            "Epoch 68/200\n",
            "375/375 [==============================] - 2s 4ms/step - loss: 0.0272 - acc: 0.9915 - val_loss: 0.1115 - val_acc: 0.9784\n",
            "Epoch 69/200\n",
            "375/375 [==============================] - 2s 4ms/step - loss: 0.0276 - acc: 0.9909 - val_loss: 0.1009 - val_acc: 0.9795\n",
            "Epoch 70/200\n",
            "375/375 [==============================] - 2s 4ms/step - loss: 0.0263 - acc: 0.9918 - val_loss: 0.1057 - val_acc: 0.9797\n",
            "Epoch 71/200\n",
            "375/375 [==============================] - 2s 4ms/step - loss: 0.0246 - acc: 0.9926 - val_loss: 0.1041 - val_acc: 0.9792\n",
            "Epoch 72/200\n",
            "375/375 [==============================] - 2s 4ms/step - loss: 0.0278 - acc: 0.9912 - val_loss: 0.1031 - val_acc: 0.9779\n",
            "Epoch 73/200\n",
            "375/375 [==============================] - 2s 4ms/step - loss: 0.0279 - acc: 0.9905 - val_loss: 0.0992 - val_acc: 0.9793\n",
            "Epoch 74/200\n",
            "375/375 [==============================] - 2s 4ms/step - loss: 0.0265 - acc: 0.9909 - val_loss: 0.1047 - val_acc: 0.9793\n",
            "Epoch 75/200\n",
            "375/375 [==============================] - 2s 4ms/step - loss: 0.0249 - acc: 0.9917 - val_loss: 0.1044 - val_acc: 0.9793\n",
            "Epoch 76/200\n",
            "375/375 [==============================] - 2s 4ms/step - loss: 0.0243 - acc: 0.9924 - val_loss: 0.1135 - val_acc: 0.9789\n",
            "Epoch 77/200\n",
            "375/375 [==============================] - 2s 4ms/step - loss: 0.0273 - acc: 0.9914 - val_loss: 0.1055 - val_acc: 0.9796\n",
            "Epoch 78/200\n",
            "375/375 [==============================] - 2s 5ms/step - loss: 0.0238 - acc: 0.9920 - val_loss: 0.1083 - val_acc: 0.9793\n",
            "Epoch 79/200\n",
            "375/375 [==============================] - 2s 5ms/step - loss: 0.0246 - acc: 0.9914 - val_loss: 0.1058 - val_acc: 0.9783\n",
            "Epoch 80/200\n",
            "375/375 [==============================] - 2s 5ms/step - loss: 0.0257 - acc: 0.9916 - val_loss: 0.1117 - val_acc: 0.9783\n",
            "Epoch 81/200\n",
            "375/375 [==============================] - 2s 4ms/step - loss: 0.0229 - acc: 0.9923 - val_loss: 0.1161 - val_acc: 0.9775\n",
            "Epoch 82/200\n",
            "375/375 [==============================] - 2s 4ms/step - loss: 0.0275 - acc: 0.9910 - val_loss: 0.1048 - val_acc: 0.9800\n",
            "Epoch 83/200\n",
            "375/375 [==============================] - 2s 4ms/step - loss: 0.0212 - acc: 0.9926 - val_loss: 0.1093 - val_acc: 0.9790\n",
            "Epoch 84/200\n",
            "375/375 [==============================] - 2s 4ms/step - loss: 0.0233 - acc: 0.9921 - val_loss: 0.1112 - val_acc: 0.9793\n",
            "Epoch 85/200\n",
            "375/375 [==============================] - 2s 4ms/step - loss: 0.0233 - acc: 0.9923 - val_loss: 0.1042 - val_acc: 0.9787\n",
            "Epoch 86/200\n",
            "375/375 [==============================] - 2s 4ms/step - loss: 0.0233 - acc: 0.9926 - val_loss: 0.1099 - val_acc: 0.9794\n",
            "Epoch 87/200\n",
            "375/375 [==============================] - 2s 4ms/step - loss: 0.0239 - acc: 0.9919 - val_loss: 0.1086 - val_acc: 0.9777\n",
            "Epoch 88/200\n",
            "375/375 [==============================] - 2s 4ms/step - loss: 0.0239 - acc: 0.9922 - val_loss: 0.1045 - val_acc: 0.9790\n",
            "Epoch 89/200\n",
            "375/375 [==============================] - 2s 4ms/step - loss: 0.0229 - acc: 0.9926 - val_loss: 0.1095 - val_acc: 0.9790\n",
            "Epoch 90/200\n",
            "375/375 [==============================] - 2s 4ms/step - loss: 0.0235 - acc: 0.9923 - val_loss: 0.1127 - val_acc: 0.9787\n",
            "Epoch 91/200\n",
            "375/375 [==============================] - 2s 4ms/step - loss: 0.0216 - acc: 0.9924 - val_loss: 0.1133 - val_acc: 0.9798\n",
            "Epoch 92/200\n",
            "375/375 [==============================] - 2s 4ms/step - loss: 0.0245 - acc: 0.9918 - val_loss: 0.1105 - val_acc: 0.9788\n",
            "Epoch 93/200\n",
            "375/375 [==============================] - 2s 4ms/step - loss: 0.0217 - acc: 0.9928 - val_loss: 0.1091 - val_acc: 0.9793\n",
            "Epoch 94/200\n",
            "375/375 [==============================] - 2s 4ms/step - loss: 0.0243 - acc: 0.9923 - val_loss: 0.1080 - val_acc: 0.9781\n",
            "Epoch 95/200\n",
            "375/375 [==============================] - 2s 5ms/step - loss: 0.0238 - acc: 0.9922 - val_loss: 0.1154 - val_acc: 0.9788\n",
            "Epoch 96/200\n",
            "375/375 [==============================] - 2s 4ms/step - loss: 0.0223 - acc: 0.9930 - val_loss: 0.1120 - val_acc: 0.9791\n",
            "Epoch 97/200\n",
            "375/375 [==============================] - 2s 4ms/step - loss: 0.0213 - acc: 0.9932 - val_loss: 0.1105 - val_acc: 0.9806\n",
            "Epoch 98/200\n",
            "375/375 [==============================] - 2s 4ms/step - loss: 0.0224 - acc: 0.9928 - val_loss: 0.1109 - val_acc: 0.9803\n",
            "Epoch 99/200\n",
            "375/375 [==============================] - 2s 4ms/step - loss: 0.0227 - acc: 0.9930 - val_loss: 0.1128 - val_acc: 0.9789\n",
            "Epoch 100/200\n",
            "375/375 [==============================] - 2s 4ms/step - loss: 0.0227 - acc: 0.9924 - val_loss: 0.1128 - val_acc: 0.9783\n",
            "Epoch 101/200\n",
            "375/375 [==============================] - 2s 5ms/step - loss: 0.0210 - acc: 0.9927 - val_loss: 0.1087 - val_acc: 0.9786\n",
            "Epoch 102/200\n",
            "375/375 [==============================] - 2s 4ms/step - loss: 0.0226 - acc: 0.9929 - val_loss: 0.1152 - val_acc: 0.9787\n",
            "Epoch 103/200\n",
            "375/375 [==============================] - 2s 4ms/step - loss: 0.0218 - acc: 0.9929 - val_loss: 0.1117 - val_acc: 0.9790\n",
            "Epoch 104/200\n",
            "375/375 [==============================] - 2s 4ms/step - loss: 0.0228 - acc: 0.9926 - val_loss: 0.1063 - val_acc: 0.9787\n",
            "Epoch 105/200\n",
            "375/375 [==============================] - 2s 5ms/step - loss: 0.0234 - acc: 0.9924 - val_loss: 0.1049 - val_acc: 0.9804\n",
            "Epoch 106/200\n",
            "375/375 [==============================] - 2s 4ms/step - loss: 0.0213 - acc: 0.9930 - val_loss: 0.1133 - val_acc: 0.9797\n",
            "Epoch 107/200\n",
            "375/375 [==============================] - 2s 4ms/step - loss: 0.0232 - acc: 0.9927 - val_loss: 0.1134 - val_acc: 0.9796\n",
            "Epoch 108/200\n",
            "375/375 [==============================] - 2s 4ms/step - loss: 0.0208 - acc: 0.9932 - val_loss: 0.1145 - val_acc: 0.9789\n",
            "Epoch 109/200\n",
            "375/375 [==============================] - 2s 4ms/step - loss: 0.0240 - acc: 0.9923 - val_loss: 0.1124 - val_acc: 0.9793\n",
            "Epoch 110/200\n",
            "375/375 [==============================] - 2s 4ms/step - loss: 0.0216 - acc: 0.9933 - val_loss: 0.1105 - val_acc: 0.9800\n",
            "Epoch 111/200\n",
            "375/375 [==============================] - 2s 4ms/step - loss: 0.0197 - acc: 0.9932 - val_loss: 0.1196 - val_acc: 0.9789\n",
            "Epoch 112/200\n",
            "375/375 [==============================] - 2s 4ms/step - loss: 0.0194 - acc: 0.9936 - val_loss: 0.1187 - val_acc: 0.9784\n",
            "Epoch 113/200\n",
            "375/375 [==============================] - 2s 4ms/step - loss: 0.0219 - acc: 0.9934 - val_loss: 0.1156 - val_acc: 0.9793\n",
            "Epoch 114/200\n",
            "375/375 [==============================] - 2s 4ms/step - loss: 0.0213 - acc: 0.9931 - val_loss: 0.1108 - val_acc: 0.9797\n",
            "Epoch 115/200\n",
            "375/375 [==============================] - 2s 4ms/step - loss: 0.0200 - acc: 0.9937 - val_loss: 0.1159 - val_acc: 0.9789\n",
            "Epoch 116/200\n",
            "375/375 [==============================] - 2s 4ms/step - loss: 0.0208 - acc: 0.9935 - val_loss: 0.1171 - val_acc: 0.9787\n",
            "Epoch 117/200\n",
            "375/375 [==============================] - 2s 4ms/step - loss: 0.0198 - acc: 0.9937 - val_loss: 0.1145 - val_acc: 0.9794\n",
            "Epoch 118/200\n",
            "375/375 [==============================] - 2s 4ms/step - loss: 0.0203 - acc: 0.9936 - val_loss: 0.1056 - val_acc: 0.9801\n",
            "Epoch 119/200\n",
            "375/375 [==============================] - 2s 4ms/step - loss: 0.0200 - acc: 0.9939 - val_loss: 0.1073 - val_acc: 0.9803\n",
            "Epoch 120/200\n",
            "375/375 [==============================] - 2s 5ms/step - loss: 0.0195 - acc: 0.9936 - val_loss: 0.1120 - val_acc: 0.9793\n",
            "Epoch 121/200\n",
            "375/375 [==============================] - 2s 5ms/step - loss: 0.0193 - acc: 0.9944 - val_loss: 0.1106 - val_acc: 0.9806\n",
            "Epoch 122/200\n",
            "375/375 [==============================] - 2s 4ms/step - loss: 0.0221 - acc: 0.9932 - val_loss: 0.1086 - val_acc: 0.9812\n",
            "Epoch 123/200\n",
            "375/375 [==============================] - 2s 4ms/step - loss: 0.0202 - acc: 0.9935 - val_loss: 0.1124 - val_acc: 0.9797\n",
            "Epoch 124/200\n",
            "375/375 [==============================] - 2s 4ms/step - loss: 0.0212 - acc: 0.9929 - val_loss: 0.1139 - val_acc: 0.9804\n",
            "Epoch 125/200\n",
            "375/375 [==============================] - 2s 4ms/step - loss: 0.0198 - acc: 0.9933 - val_loss: 0.1163 - val_acc: 0.9797\n",
            "Epoch 126/200\n",
            "375/375 [==============================] - 2s 4ms/step - loss: 0.0204 - acc: 0.9934 - val_loss: 0.1165 - val_acc: 0.9796\n",
            "Epoch 127/200\n",
            "375/375 [==============================] - 2s 4ms/step - loss: 0.0194 - acc: 0.9938 - val_loss: 0.1148 - val_acc: 0.9805\n",
            "Epoch 128/200\n",
            "375/375 [==============================] - 2s 4ms/step - loss: 0.0212 - acc: 0.9935 - val_loss: 0.1114 - val_acc: 0.9793\n",
            "Epoch 129/200\n",
            "375/375 [==============================] - 2s 4ms/step - loss: 0.0179 - acc: 0.9943 - val_loss: 0.1175 - val_acc: 0.9788\n",
            "Epoch 130/200\n",
            "375/375 [==============================] - 2s 4ms/step - loss: 0.0172 - acc: 0.9944 - val_loss: 0.1168 - val_acc: 0.9801\n",
            "Epoch 131/200\n",
            "375/375 [==============================] - 2s 4ms/step - loss: 0.0216 - acc: 0.9930 - val_loss: 0.1120 - val_acc: 0.9798\n",
            "Epoch 132/200\n",
            "375/375 [==============================] - 2s 4ms/step - loss: 0.0210 - acc: 0.9933 - val_loss: 0.1153 - val_acc: 0.9793\n",
            "Epoch 133/200\n",
            "375/375 [==============================] - 2s 5ms/step - loss: 0.0194 - acc: 0.9937 - val_loss: 0.1155 - val_acc: 0.9807\n",
            "Epoch 134/200\n",
            "375/375 [==============================] - 2s 4ms/step - loss: 0.0198 - acc: 0.9937 - val_loss: 0.1155 - val_acc: 0.9786\n",
            "Epoch 135/200\n",
            "375/375 [==============================] - 2s 4ms/step - loss: 0.0193 - acc: 0.9938 - val_loss: 0.1223 - val_acc: 0.9792\n",
            "Epoch 136/200\n",
            "375/375 [==============================] - 2s 4ms/step - loss: 0.0209 - acc: 0.9932 - val_loss: 0.1138 - val_acc: 0.9806\n",
            "Epoch 137/200\n",
            "375/375 [==============================] - 2s 4ms/step - loss: 0.0203 - acc: 0.9936 - val_loss: 0.1153 - val_acc: 0.9799\n",
            "Epoch 138/200\n",
            "375/375 [==============================] - 2s 4ms/step - loss: 0.0203 - acc: 0.9934 - val_loss: 0.1128 - val_acc: 0.9803\n",
            "Epoch 139/200\n",
            "375/375 [==============================] - 2s 4ms/step - loss: 0.0210 - acc: 0.9938 - val_loss: 0.1128 - val_acc: 0.9793\n",
            "Epoch 140/200\n",
            "375/375 [==============================] - 2s 4ms/step - loss: 0.0184 - acc: 0.9940 - val_loss: 0.1162 - val_acc: 0.9786\n",
            "Epoch 141/200\n",
            "375/375 [==============================] - 2s 4ms/step - loss: 0.0200 - acc: 0.9937 - val_loss: 0.1163 - val_acc: 0.9800\n",
            "Epoch 142/200\n",
            "375/375 [==============================] - 2s 4ms/step - loss: 0.0158 - acc: 0.9949 - val_loss: 0.1219 - val_acc: 0.9793\n",
            "Epoch 143/200\n",
            "375/375 [==============================] - 2s 4ms/step - loss: 0.0188 - acc: 0.9942 - val_loss: 0.1241 - val_acc: 0.9790\n",
            "Epoch 144/200\n",
            "375/375 [==============================] - 2s 4ms/step - loss: 0.0189 - acc: 0.9938 - val_loss: 0.1253 - val_acc: 0.9788\n",
            "Epoch 145/200\n",
            "375/375 [==============================] - 2s 4ms/step - loss: 0.0169 - acc: 0.9947 - val_loss: 0.1222 - val_acc: 0.9794\n",
            "Epoch 146/200\n",
            "375/375 [==============================] - 2s 4ms/step - loss: 0.0203 - acc: 0.9939 - val_loss: 0.1201 - val_acc: 0.9789\n",
            "Epoch 147/200\n",
            "375/375 [==============================] - 2s 4ms/step - loss: 0.0194 - acc: 0.9936 - val_loss: 0.1293 - val_acc: 0.9783\n",
            "Epoch 148/200\n",
            "375/375 [==============================] - 2s 4ms/step - loss: 0.0182 - acc: 0.9942 - val_loss: 0.1273 - val_acc: 0.9795\n",
            "Epoch 149/200\n",
            "375/375 [==============================] - 2s 4ms/step - loss: 0.0197 - acc: 0.9934 - val_loss: 0.1215 - val_acc: 0.9787\n",
            "Epoch 150/200\n",
            "375/375 [==============================] - 2s 4ms/step - loss: 0.0164 - acc: 0.9946 - val_loss: 0.1151 - val_acc: 0.9794\n",
            "Epoch 151/200\n",
            "375/375 [==============================] - 2s 5ms/step - loss: 0.0161 - acc: 0.9945 - val_loss: 0.1180 - val_acc: 0.9786\n",
            "Epoch 152/200\n",
            "375/375 [==============================] - 2s 4ms/step - loss: 0.0198 - acc: 0.9934 - val_loss: 0.1261 - val_acc: 0.9794\n",
            "Epoch 153/200\n",
            "375/375 [==============================] - 2s 4ms/step - loss: 0.0193 - acc: 0.9940 - val_loss: 0.1208 - val_acc: 0.9785\n",
            "Epoch 154/200\n",
            "375/375 [==============================] - 2s 4ms/step - loss: 0.0185 - acc: 0.9940 - val_loss: 0.1194 - val_acc: 0.9801\n",
            "Epoch 155/200\n",
            "375/375 [==============================] - 2s 4ms/step - loss: 0.0180 - acc: 0.9944 - val_loss: 0.1291 - val_acc: 0.9801\n",
            "Epoch 156/200\n",
            "375/375 [==============================] - 2s 4ms/step - loss: 0.0166 - acc: 0.9947 - val_loss: 0.1215 - val_acc: 0.9805\n",
            "Epoch 157/200\n",
            "375/375 [==============================] - 2s 4ms/step - loss: 0.0188 - acc: 0.9942 - val_loss: 0.1210 - val_acc: 0.9799\n",
            "Epoch 158/200\n",
            "375/375 [==============================] - 2s 5ms/step - loss: 0.0186 - acc: 0.9944 - val_loss: 0.1152 - val_acc: 0.9795\n",
            "Epoch 159/200\n",
            "375/375 [==============================] - 2s 4ms/step - loss: 0.0195 - acc: 0.9938 - val_loss: 0.1219 - val_acc: 0.9787\n",
            "Epoch 160/200\n",
            "375/375 [==============================] - 2s 4ms/step - loss: 0.0193 - acc: 0.9941 - val_loss: 0.1187 - val_acc: 0.9793\n",
            "Epoch 161/200\n",
            "375/375 [==============================] - 2s 4ms/step - loss: 0.0169 - acc: 0.9941 - val_loss: 0.1174 - val_acc: 0.9802\n",
            "Epoch 162/200\n",
            "375/375 [==============================] - 2s 5ms/step - loss: 0.0187 - acc: 0.9944 - val_loss: 0.1243 - val_acc: 0.9796\n",
            "Epoch 163/200\n",
            "375/375 [==============================] - 2s 4ms/step - loss: 0.0194 - acc: 0.9941 - val_loss: 0.1194 - val_acc: 0.9794\n",
            "Epoch 164/200\n",
            "375/375 [==============================] - 2s 5ms/step - loss: 0.0169 - acc: 0.9946 - val_loss: 0.1175 - val_acc: 0.9803\n",
            "Epoch 165/200\n",
            "375/375 [==============================] - 2s 5ms/step - loss: 0.0159 - acc: 0.9948 - val_loss: 0.1182 - val_acc: 0.9786\n",
            "Epoch 166/200\n",
            "375/375 [==============================] - 2s 5ms/step - loss: 0.0171 - acc: 0.9946 - val_loss: 0.1294 - val_acc: 0.9793\n",
            "Epoch 167/200\n",
            "375/375 [==============================] - 2s 4ms/step - loss: 0.0184 - acc: 0.9944 - val_loss: 0.1271 - val_acc: 0.9801\n",
            "Epoch 168/200\n",
            "375/375 [==============================] - 2s 5ms/step - loss: 0.0181 - acc: 0.9944 - val_loss: 0.1419 - val_acc: 0.9779\n",
            "Epoch 169/200\n",
            "375/375 [==============================] - 2s 4ms/step - loss: 0.0188 - acc: 0.9939 - val_loss: 0.1292 - val_acc: 0.9805\n",
            "Epoch 170/200\n",
            "375/375 [==============================] - 2s 5ms/step - loss: 0.0165 - acc: 0.9946 - val_loss: 0.1293 - val_acc: 0.9790\n",
            "Epoch 171/200\n",
            "375/375 [==============================] - 2s 4ms/step - loss: 0.0192 - acc: 0.9940 - val_loss: 0.1306 - val_acc: 0.9791\n",
            "Epoch 172/200\n",
            "375/375 [==============================] - 2s 4ms/step - loss: 0.0174 - acc: 0.9945 - val_loss: 0.1145 - val_acc: 0.9801\n",
            "Epoch 173/200\n",
            "375/375 [==============================] - 2s 4ms/step - loss: 0.0185 - acc: 0.9944 - val_loss: 0.1215 - val_acc: 0.9796\n",
            "Epoch 174/200\n",
            "375/375 [==============================] - 2s 4ms/step - loss: 0.0178 - acc: 0.9947 - val_loss: 0.1201 - val_acc: 0.9783\n",
            "Epoch 175/200\n",
            "375/375 [==============================] - 2s 4ms/step - loss: 0.0144 - acc: 0.9954 - val_loss: 0.1277 - val_acc: 0.9791\n",
            "Epoch 176/200\n",
            "375/375 [==============================] - 2s 5ms/step - loss: 0.0175 - acc: 0.9944 - val_loss: 0.1313 - val_acc: 0.9791\n",
            "Epoch 177/200\n",
            "375/375 [==============================] - 2s 5ms/step - loss: 0.0169 - acc: 0.9948 - val_loss: 0.1277 - val_acc: 0.9804\n",
            "Epoch 178/200\n",
            "375/375 [==============================] - 2s 4ms/step - loss: 0.0180 - acc: 0.9942 - val_loss: 0.1318 - val_acc: 0.9784\n",
            "Epoch 179/200\n",
            "375/375 [==============================] - 2s 5ms/step - loss: 0.0175 - acc: 0.9945 - val_loss: 0.1291 - val_acc: 0.9782\n",
            "Epoch 180/200\n",
            "375/375 [==============================] - 2s 5ms/step - loss: 0.0187 - acc: 0.9941 - val_loss: 0.1263 - val_acc: 0.9795\n",
            "Epoch 181/200\n",
            "375/375 [==============================] - 2s 4ms/step - loss: 0.0160 - acc: 0.9951 - val_loss: 0.1232 - val_acc: 0.9790\n",
            "Epoch 182/200\n",
            "375/375 [==============================] - 2s 4ms/step - loss: 0.0171 - acc: 0.9944 - val_loss: 0.1310 - val_acc: 0.9789\n",
            "Epoch 183/200\n",
            "375/375 [==============================] - 2s 4ms/step - loss: 0.0168 - acc: 0.9948 - val_loss: 0.1215 - val_acc: 0.9794\n",
            "Epoch 184/200\n",
            "375/375 [==============================] - 2s 4ms/step - loss: 0.0150 - acc: 0.9950 - val_loss: 0.1375 - val_acc: 0.9791\n",
            "Epoch 185/200\n",
            "375/375 [==============================] - 2s 5ms/step - loss: 0.0177 - acc: 0.9947 - val_loss: 0.1276 - val_acc: 0.9788\n",
            "Epoch 186/200\n",
            "375/375 [==============================] - 2s 4ms/step - loss: 0.0177 - acc: 0.9941 - val_loss: 0.1351 - val_acc: 0.9784\n",
            "Epoch 187/200\n",
            "375/375 [==============================] - 2s 4ms/step - loss: 0.0175 - acc: 0.9944 - val_loss: 0.1268 - val_acc: 0.9804\n",
            "Epoch 188/200\n",
            "375/375 [==============================] - 2s 4ms/step - loss: 0.0167 - acc: 0.9944 - val_loss: 0.1342 - val_acc: 0.9779\n",
            "Epoch 189/200\n",
            "375/375 [==============================] - 2s 5ms/step - loss: 0.0160 - acc: 0.9949 - val_loss: 0.1340 - val_acc: 0.9787\n",
            "Epoch 190/200\n",
            "375/375 [==============================] - 2s 5ms/step - loss: 0.0147 - acc: 0.9955 - val_loss: 0.1283 - val_acc: 0.9797\n",
            "Epoch 191/200\n",
            "375/375 [==============================] - 2s 5ms/step - loss: 0.0155 - acc: 0.9956 - val_loss: 0.1251 - val_acc: 0.9796\n",
            "Epoch 192/200\n",
            "375/375 [==============================] - 2s 4ms/step - loss: 0.0168 - acc: 0.9949 - val_loss: 0.1273 - val_acc: 0.9794\n",
            "Epoch 193/200\n",
            "375/375 [==============================] - 2s 4ms/step - loss: 0.0160 - acc: 0.9948 - val_loss: 0.1366 - val_acc: 0.9790\n",
            "Epoch 194/200\n",
            "375/375 [==============================] - 2s 4ms/step - loss: 0.0166 - acc: 0.9949 - val_loss: 0.1308 - val_acc: 0.9803\n",
            "Epoch 195/200\n",
            "375/375 [==============================] - 2s 4ms/step - loss: 0.0162 - acc: 0.9949 - val_loss: 0.1308 - val_acc: 0.9792\n",
            "Epoch 196/200\n",
            "375/375 [==============================] - 2s 4ms/step - loss: 0.0167 - acc: 0.9948 - val_loss: 0.1398 - val_acc: 0.9788\n",
            "Epoch 197/200\n",
            "375/375 [==============================] - 2s 4ms/step - loss: 0.0198 - acc: 0.9937 - val_loss: 0.1362 - val_acc: 0.9784\n",
            "Epoch 198/200\n",
            "375/375 [==============================] - 2s 5ms/step - loss: 0.0158 - acc: 0.9951 - val_loss: 0.1336 - val_acc: 0.9792\n",
            "Epoch 199/200\n",
            "375/375 [==============================] - 2s 5ms/step - loss: 0.0145 - acc: 0.9953 - val_loss: 0.1293 - val_acc: 0.9792\n",
            "Epoch 200/200\n",
            "375/375 [==============================] - 2s 5ms/step - loss: 0.0167 - acc: 0.9944 - val_loss: 0.1427 - val_acc: 0.9793\n"
          ],
          "name": "stdout"
        },
        {
          "output_type": "execute_result",
          "data": {
            "text/plain": [
              "<keras.callbacks.History at 0x7f603d882690>"
            ]
          },
          "metadata": {},
          "execution_count": 18
        }
      ]
    },
    {
      "cell_type": "code",
      "metadata": {
        "id": "hOE9HbCideoZ"
      },
      "source": [
        "import pandas as pd\n",
        "result = pd.DataFrame(model.history.history)"
      ],
      "execution_count": null,
      "outputs": []
    },
    {
      "cell_type": "code",
      "metadata": {
        "colab": {
          "base_uri": "https://localhost:8080/",
          "height": 282
        },
        "id": "TJQc_aoXdeqy",
        "outputId": "18a77bc1-a8aa-4ead-ee84-dbbf2bf063d8"
      },
      "source": [
        "result.plot()"
      ],
      "execution_count": null,
      "outputs": [
        {
          "output_type": "execute_result",
          "data": {
            "text/plain": [
              "<matplotlib.axes._subplots.AxesSubplot at 0x7f603d86b810>"
            ]
          },
          "metadata": {},
          "execution_count": 20
        },
        {
          "output_type": "display_data",
          "data": {
            "image/png": "[encoded data removed]",
            "text/plain": [
              "<Figure size 432x288 with 1 Axes>"
            ]
          },
          "metadata": {
            "needs_background": "light"
          }
        }
      ]
    },
    {
      "cell_type": "code",
      "metadata": {
        "colab": {
          "base_uri": "https://localhost:8080/"
        },
        "id": "Xnhz87OgdetF",
        "outputId": "92a64a4b-9601-494d-bf6b-8344879d4677"
      },
      "source": [
        "test_loss, test_acc = model.evaluate(X_test,y_test)"
      ],
      "execution_count": null,
      "outputs": [
        {
          "output_type": "stream",
          "text": [
            "313/313 [==============================] - 1s 3ms/step - loss: 0.1324 - acc: 0.9805\n"
          ],
          "name": "stdout"
        }
      ]
    },
    {
      "cell_type": "code",
      "metadata": {
        "colab": {
          "base_uri": "https://localhost:8080/"
        },
        "id": "RcYaKUTqdev6",
        "outputId": "1b04ee6e-949b-48e9-f794-0577c74d4f09"
      },
      "source": [
        "print('Test accuracy:',test_acc)"
      ],
      "execution_count": null,
      "outputs": [
        {
          "output_type": "stream",
          "text": [
            "Test accuracy: 0.9804999828338623\n"
          ],
          "name": "stdout"
        }
      ]
    },
    {
      "cell_type": "code",
      "metadata": {
        "id": "-xdAVNDmdeyJ"
      },
      "source": [
        ""
      ],
      "execution_count": null,
      "outputs": []
    },
    {
      "cell_type": "code",
      "metadata": {
        "id": "olNBJs9bde1B"
      },
      "source": [
        ""
      ],
      "execution_count": null,
      "outputs": []
    },
    {
      "cell_type": "code",
      "metadata": {
        "id": "49ZvSlQDdfQH"
      },
      "source": [
        ""
      ],
      "execution_count": null,
      "outputs": []
    },
    {
      "cell_type": "code",
      "metadata": {
        "id": "K9pXFbn3b7VA"
      },
      "source": [
        ""
      ],
      "execution_count": null,
      "outputs": []
    },
    {
      "cell_type": "code",
      "metadata": {
        "id": "yLPADF8Tb7X3"
      },
      "source": [
        ""
      ],
      "execution_count": null,
      "outputs": []
    },
    {
      "cell_type": "code",
      "metadata": {
        "id": "rH3gHE9tb7ai"
      },
      "source": [
        ""
      ],
      "execution_count": null,
      "outputs": []
    },
    {
      "cell_type": "code",
      "metadata": {
        "id": "TBsewkPab7dj"
      },
      "source": [
        ""
      ],
      "execution_count": null,
      "outputs": []
    },
    {
      "cell_type": "code",
      "metadata": {
        "id": "WOsTqOgGb7gB"
      },
      "source": [
        ""
      ],
      "execution_count": null,
      "outputs": []
    },
    {
      "cell_type": "code",
      "metadata": {
        "id": "FqebjxGab7jg"
      },
      "source": [
        ""
      ],
      "execution_count": null,
      "outputs": []
    }
  ]
}