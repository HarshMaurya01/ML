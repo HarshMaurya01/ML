{
 "cells": [
  {
   "cell_type": "code",
   "execution_count": 1,
   "id": "innovative-scholar",
   "metadata": {
    "_cell_guid": "b1076dfc-b9ad-4769-8c92-a6c4dae69d19",
    "_kg_hide-input": true,
    "_uuid": "8f2839f25d086af736a60e9eeb907d3b93b6e0e5",
    "execution": {
     "iopub.execute_input": "2021-07-07T04:53:06.877684Z",
     "iopub.status.busy": "2021-07-07T04:53:06.876996Z",
     "iopub.status.idle": "2021-07-07T04:53:08.583194Z",
     "shell.execute_reply": "2021-07-07T04:53:08.583874Z",
     "shell.execute_reply.started": "2021-07-07T04:52:43.061416Z"
    },
    "papermill": {
     "duration": 1.733221,
     "end_time": "2021-07-07T04:53:08.584180",
     "exception": false,
     "start_time": "2021-07-07T04:53:06.850959",
     "status": "completed"
    },
    "tags": []
   },
   "outputs": [],
   "source": [
    "import numpy as np\n",
    "import pandas as pd\n",
    "import matplotlib.pyplot as plt\n",
    "import seaborn as sns\n",
    "from scipy import stats\n",
    "import statsmodels.api as sm"
   ]
  },
  {
   "cell_type": "code",
   "execution_count": 2,
   "id": "speaking-promise",
   "metadata": {
    "_kg_hide-input": true,
    "execution": {
     "iopub.execute_input": "2021-07-07T04:53:08.625941Z",
     "iopub.status.busy": "2021-07-07T04:53:08.624912Z",
     "iopub.status.idle": "2021-07-07T04:53:08.627937Z",
     "shell.execute_reply": "2021-07-07T04:53:08.627407Z",
     "shell.execute_reply.started": "2021-07-07T04:52:43.067003Z"
    },
    "papermill": {
     "duration": 0.026889,
     "end_time": "2021-07-07T04:53:08.628078",
     "exception": false,
     "start_time": "2021-07-07T04:53:08.601189",
     "status": "completed"
    },
    "tags": []
   },
   "outputs": [],
   "source": [
    "df = pd.DataFrame({'Quater':['Jun-16',\n",
    "'Sep-16',\n",
    "'Dec-16',\n",
    "'Mar-17',\n",
    "'Jun-17',\n",
    "'Sep-17',\n",
    "'Dec-17',\n",
    "'Mar-18',\n",
    "'Jun-18',\n",
    "'Sep-18',\n",
    "'Dec-18',\n",
    "'Mar-19',\n",
    "'Jun-19',\n",
    "'Sep-19',\n",
    "'Dec-19',\n",
    "'Mar-20',\n",
    "'Jun-20',\n",
    "'Sep-20',\n",
    "'Dec-20',\n",
    "'Mar-21'],'Sales':[7398.91,\n",
    "7669.53,\n",
    "6245.90,\n",
    "6915.20,\n",
    "7971.58,\n",
    "8361.99,\n",
    "7305.49,\n",
    "8564.04,\n",
    "8809.82,\n",
    "9090.94,\n",
    "7864.82,\n",
    "7884.96,\n",
    "8030.27,\n",
    "7570.70,\n",
    "6996.73,\n",
    "6238.39,\n",
    "2971.54,\n",
    "9367.34,\n",
    "9775.77,\n",
    "8685.97\n",
    "]}\n",
    ")"
   ]
  },
  {
   "cell_type": "code",
   "execution_count": 3,
   "id": "resistant-drinking",
   "metadata": {
    "_kg_hide-input": true,
    "execution": {
     "iopub.execute_input": "2021-07-07T04:53:08.662879Z",
     "iopub.status.busy": "2021-07-07T04:53:08.662179Z",
     "iopub.status.idle": "2021-07-07T04:53:08.688401Z",
     "shell.execute_reply": "2021-07-07T04:53:08.687803Z",
     "shell.execute_reply.started": "2021-07-07T04:52:43.080846Z"
    },
    "papermill": {
     "duration": 0.048135,
     "end_time": "2021-07-07T04:53:08.688558",
     "exception": false,
     "start_time": "2021-07-07T04:53:08.640423",
     "status": "completed"
    },
    "tags": []
   },
   "outputs": [
    {
     "data": {
      "text/html": [
       "<div>\n",
       "<style scoped>\n",
       "    .dataframe tbody tr th:only-of-type {\n",
       "        vertical-align: middle;\n",
       "    }\n",
       "\n",
       "    .dataframe tbody tr th {\n",
       "        vertical-align: top;\n",
       "    }\n",
       "\n",
       "    .dataframe thead th {\n",
       "        text-align: right;\n",
       "    }\n",
       "</style>\n",
       "<table border=\"1\" class=\"dataframe\">\n",
       "  <thead>\n",
       "    <tr style=\"text-align: right;\">\n",
       "      <th></th>\n",
       "      <th>Quater</th>\n",
       "      <th>Sales</th>\n",
       "    </tr>\n",
       "  </thead>\n",
       "  <tbody>\n",
       "    <tr>\n",
       "      <th>0</th>\n",
       "      <td>Jun-16</td>\n",
       "      <td>7398.91</td>\n",
       "    </tr>\n",
       "    <tr>\n",
       "      <th>1</th>\n",
       "      <td>Sep-16</td>\n",
       "      <td>7669.53</td>\n",
       "    </tr>\n",
       "    <tr>\n",
       "      <th>2</th>\n",
       "      <td>Dec-16</td>\n",
       "      <td>6245.90</td>\n",
       "    </tr>\n",
       "    <tr>\n",
       "      <th>3</th>\n",
       "      <td>Mar-17</td>\n",
       "      <td>6915.20</td>\n",
       "    </tr>\n",
       "    <tr>\n",
       "      <th>4</th>\n",
       "      <td>Jun-17</td>\n",
       "      <td>7971.58</td>\n",
       "    </tr>\n",
       "    <tr>\n",
       "      <th>5</th>\n",
       "      <td>Sep-17</td>\n",
       "      <td>8361.99</td>\n",
       "    </tr>\n",
       "    <tr>\n",
       "      <th>6</th>\n",
       "      <td>Dec-17</td>\n",
       "      <td>7305.49</td>\n",
       "    </tr>\n",
       "    <tr>\n",
       "      <th>7</th>\n",
       "      <td>Mar-18</td>\n",
       "      <td>8564.04</td>\n",
       "    </tr>\n",
       "    <tr>\n",
       "      <th>8</th>\n",
       "      <td>Jun-18</td>\n",
       "      <td>8809.82</td>\n",
       "    </tr>\n",
       "    <tr>\n",
       "      <th>9</th>\n",
       "      <td>Sep-18</td>\n",
       "      <td>9090.94</td>\n",
       "    </tr>\n",
       "    <tr>\n",
       "      <th>10</th>\n",
       "      <td>Dec-18</td>\n",
       "      <td>7864.82</td>\n",
       "    </tr>\n",
       "    <tr>\n",
       "      <th>11</th>\n",
       "      <td>Mar-19</td>\n",
       "      <td>7884.96</td>\n",
       "    </tr>\n",
       "    <tr>\n",
       "      <th>12</th>\n",
       "      <td>Jun-19</td>\n",
       "      <td>8030.27</td>\n",
       "    </tr>\n",
       "    <tr>\n",
       "      <th>13</th>\n",
       "      <td>Sep-19</td>\n",
       "      <td>7570.70</td>\n",
       "    </tr>\n",
       "    <tr>\n",
       "      <th>14</th>\n",
       "      <td>Dec-19</td>\n",
       "      <td>6996.73</td>\n",
       "    </tr>\n",
       "    <tr>\n",
       "      <th>15</th>\n",
       "      <td>Mar-20</td>\n",
       "      <td>6238.39</td>\n",
       "    </tr>\n",
       "    <tr>\n",
       "      <th>16</th>\n",
       "      <td>Jun-20</td>\n",
       "      <td>2971.54</td>\n",
       "    </tr>\n",
       "    <tr>\n",
       "      <th>17</th>\n",
       "      <td>Sep-20</td>\n",
       "      <td>9367.34</td>\n",
       "    </tr>\n",
       "    <tr>\n",
       "      <th>18</th>\n",
       "      <td>Dec-20</td>\n",
       "      <td>9775.77</td>\n",
       "    </tr>\n",
       "    <tr>\n",
       "      <th>19</th>\n",
       "      <td>Mar-21</td>\n",
       "      <td>8685.97</td>\n",
       "    </tr>\n",
       "  </tbody>\n",
       "</table>\n",
       "</div>"
      ],
      "text/plain": [
       "    Quater    Sales\n",
       "0   Jun-16  7398.91\n",
       "1   Sep-16  7669.53\n",
       "2   Dec-16  6245.90\n",
       "3   Mar-17  6915.20\n",
       "4   Jun-17  7971.58\n",
       "5   Sep-17  8361.99\n",
       "6   Dec-17  7305.49\n",
       "7   Mar-18  8564.04\n",
       "8   Jun-18  8809.82\n",
       "9   Sep-18  9090.94\n",
       "10  Dec-18  7864.82\n",
       "11  Mar-19  7884.96\n",
       "12  Jun-19  8030.27\n",
       "13  Sep-19  7570.70\n",
       "14  Dec-19  6996.73\n",
       "15  Mar-20  6238.39\n",
       "16  Jun-20  2971.54\n",
       "17  Sep-20  9367.34\n",
       "18  Dec-20  9775.77\n",
       "19  Mar-21  8685.97"
      ]
     },
     "execution_count": 3,
     "metadata": {},
     "output_type": "execute_result"
    }
   ],
   "source": [
    "df"
   ]
  },
  {
   "cell_type": "code",
   "execution_count": 4,
   "id": "impaired-ranking",
   "metadata": {
    "_kg_hide-input": true,
    "execution": {
     "iopub.execute_input": "2021-07-07T04:53:08.724956Z",
     "iopub.status.busy": "2021-07-07T04:53:08.720831Z",
     "iopub.status.idle": "2021-07-07T04:53:09.149561Z",
     "shell.execute_reply": "2021-07-07T04:53:09.148631Z",
     "shell.execute_reply.started": "2021-07-07T04:52:43.103197Z"
    },
    "papermill": {
     "duration": 0.446834,
     "end_time": "2021-07-07T04:53:09.149718",
     "exception": false,
     "start_time": "2021-07-07T04:53:08.702884",
     "status": "completed"
    },
    "tags": []
   },
   "outputs": [
    {
     "data": {
      "text/plain": [
       "<AxesSubplot:xlabel='Quater', ylabel='Sales'>"
      ]
     },
     "execution_count": 4,
     "metadata": {},
     "output_type": "execute_result"
    },
    {
     "data": {
      "image/png": "[encoded data removed]",
      "text/plain": [
       "<Figure size 1080x432 with 1 Axes>"
      ]
     },
     "metadata": {
      "needs_background": "light"
     },
     "output_type": "display_data"
    }
   ],
   "source": [
    "plt.figure(figsize=(15,6))\n",
    "sns.scatterplot(y='Sales',x='Quater',data=df)"
   ]
  },
  {
   "cell_type": "code",
   "execution_count": 5,
   "id": "checked-plaintiff",
   "metadata": {
    "_kg_hide-input": true,
    "execution": {
     "iopub.execute_input": "2021-07-07T04:53:09.214823Z",
     "iopub.status.busy": "2021-07-07T04:53:09.212650Z",
     "iopub.status.idle": "2021-07-07T04:53:09.538261Z",
     "shell.execute_reply": "2021-07-07T04:53:09.537695Z",
     "shell.execute_reply.started": "2021-07-07T04:52:43.375699Z"
    },
    "papermill": {
     "duration": 0.374886,
     "end_time": "2021-07-07T04:53:09.538505",
     "exception": false,
     "start_time": "2021-07-07T04:53:09.163619",
     "status": "completed"
    },
    "tags": []
   },
   "outputs": [
    {
     "data": {
      "text/plain": [
       "<AxesSubplot:xlabel='Quater', ylabel='Sales'>"
      ]
     },
     "execution_count": 5,
     "metadata": {},
     "output_type": "execute_result"
    },
    {
     "data": {
      "image/png": "[encoded data removed]",
      "text/plain": [
       "<Figure size 1080x432 with 1 Axes>"
      ]
     },
     "metadata": {},
     "output_type": "display_data"
    }
   ],
   "source": [
    "sns.set_style('whitegrid')\n",
    "plt.figure(figsize=(15,6))\n",
    "sns.lineplot(y='Sales',x='Quater',data=df,marker='o',ms=15,color='red')"
   ]
  },
  {
   "cell_type": "code",
   "execution_count": 6,
   "id": "smoking-reservation",
   "metadata": {
    "execution": {
     "iopub.execute_input": "2021-07-07T04:53:09.575022Z",
     "iopub.status.busy": "2021-07-07T04:53:09.574204Z",
     "iopub.status.idle": "2021-07-07T04:53:09.577335Z",
     "shell.execute_reply": "2021-07-07T04:53:09.576831Z",
     "shell.execute_reply.started": "2021-07-07T04:52:43.648918Z"
    },
    "papermill": {
     "duration": 0.022548,
     "end_time": "2021-07-07T04:53:09.577473",
     "exception": false,
     "start_time": "2021-07-07T04:53:09.554925",
     "status": "completed"
    },
    "tags": []
   },
   "outputs": [],
   "source": [
    "# Forecasting using Mean Average"
   ]
  },
  {
   "cell_type": "code",
   "execution_count": 7,
   "id": "labeled-integer",
   "metadata": {
    "execution": {
     "iopub.execute_input": "2021-07-07T04:53:09.613344Z",
     "iopub.status.busy": "2021-07-07T04:53:09.612345Z",
     "iopub.status.idle": "2021-07-07T04:53:09.615608Z",
     "shell.execute_reply": "2021-07-07T04:53:09.615092Z",
     "shell.execute_reply.started": "2021-07-07T04:52:43.654872Z"
    },
    "papermill": {
     "duration": 0.022706,
     "end_time": "2021-07-07T04:53:09.615739",
     "exception": false,
     "start_time": "2021-07-07T04:53:09.593033",
     "status": "completed"
    },
    "tags": []
   },
   "outputs": [],
   "source": [
    "## Moving average is one of the simplest forecasting technique which forecasts the future value of a time series data using average\n",
    "## of the past N Observation. "
   ]
  },
  {
   "cell_type": "code",
   "execution_count": 8,
   "id": "logical-beads",
   "metadata": {
    "execution": {
     "iopub.execute_input": "2021-07-07T04:53:09.651328Z",
     "iopub.status.busy": "2021-07-07T04:53:09.650392Z",
     "iopub.status.idle": "2021-07-07T04:53:09.653586Z",
     "shell.execute_reply": "2021-07-07T04:53:09.652969Z",
     "shell.execute_reply.started": "2021-07-07T04:52:43.665256Z"
    },
    "papermill": {
     "duration": 0.022548,
     "end_time": "2021-07-07T04:53:09.653731",
     "exception": false,
     "start_time": "2021-07-07T04:53:09.631183",
     "status": "completed"
    },
    "tags": []
   },
   "outputs": [],
   "source": [
    "# df['mavg_12'] = df['Sales'].rolling(window=0).mean().shift(1)"
   ]
  },
  {
   "cell_type": "code",
   "execution_count": 9,
   "id": "informative-injury",
   "metadata": {
    "execution": {
     "iopub.execute_input": "2021-07-07T04:53:09.697463Z",
     "iopub.status.busy": "2021-07-07T04:53:09.696683Z",
     "iopub.status.idle": "2021-07-07T04:53:09.699615Z",
     "shell.execute_reply": "2021-07-07T04:53:09.700161Z",
     "shell.execute_reply.started": "2021-07-07T04:52:43.674109Z"
    },
    "papermill": {
     "duration": 0.031095,
     "end_time": "2021-07-07T04:53:09.700361",
     "exception": false,
     "start_time": "2021-07-07T04:53:09.669266",
     "status": "completed"
    },
    "tags": []
   },
   "outputs": [
    {
     "data": {
      "text/html": [
       "<div>\n",
       "<style scoped>\n",
       "    .dataframe tbody tr th:only-of-type {\n",
       "        vertical-align: middle;\n",
       "    }\n",
       "\n",
       "    .dataframe tbody tr th {\n",
       "        vertical-align: top;\n",
       "    }\n",
       "\n",
       "    .dataframe thead th {\n",
       "        text-align: right;\n",
       "    }\n",
       "</style>\n",
       "<table border=\"1\" class=\"dataframe\">\n",
       "  <thead>\n",
       "    <tr style=\"text-align: right;\">\n",
       "      <th></th>\n",
       "      <th>Quater</th>\n",
       "      <th>Sales</th>\n",
       "    </tr>\n",
       "  </thead>\n",
       "  <tbody>\n",
       "    <tr>\n",
       "      <th>0</th>\n",
       "      <td>Jun-16</td>\n",
       "      <td>7398.91</td>\n",
       "    </tr>\n",
       "    <tr>\n",
       "      <th>1</th>\n",
       "      <td>Sep-16</td>\n",
       "      <td>7669.53</td>\n",
       "    </tr>\n",
       "    <tr>\n",
       "      <th>2</th>\n",
       "      <td>Dec-16</td>\n",
       "      <td>6245.90</td>\n",
       "    </tr>\n",
       "    <tr>\n",
       "      <th>3</th>\n",
       "      <td>Mar-17</td>\n",
       "      <td>6915.20</td>\n",
       "    </tr>\n",
       "    <tr>\n",
       "      <th>4</th>\n",
       "      <td>Jun-17</td>\n",
       "      <td>7971.58</td>\n",
       "    </tr>\n",
       "    <tr>\n",
       "      <th>5</th>\n",
       "      <td>Sep-17</td>\n",
       "      <td>8361.99</td>\n",
       "    </tr>\n",
       "    <tr>\n",
       "      <th>6</th>\n",
       "      <td>Dec-17</td>\n",
       "      <td>7305.49</td>\n",
       "    </tr>\n",
       "    <tr>\n",
       "      <th>7</th>\n",
       "      <td>Mar-18</td>\n",
       "      <td>8564.04</td>\n",
       "    </tr>\n",
       "    <tr>\n",
       "      <th>8</th>\n",
       "      <td>Jun-18</td>\n",
       "      <td>8809.82</td>\n",
       "    </tr>\n",
       "    <tr>\n",
       "      <th>9</th>\n",
       "      <td>Sep-18</td>\n",
       "      <td>9090.94</td>\n",
       "    </tr>\n",
       "    <tr>\n",
       "      <th>10</th>\n",
       "      <td>Dec-18</td>\n",
       "      <td>7864.82</td>\n",
       "    </tr>\n",
       "    <tr>\n",
       "      <th>11</th>\n",
       "      <td>Mar-19</td>\n",
       "      <td>7884.96</td>\n",
       "    </tr>\n",
       "    <tr>\n",
       "      <th>12</th>\n",
       "      <td>Jun-19</td>\n",
       "      <td>8030.27</td>\n",
       "    </tr>\n",
       "    <tr>\n",
       "      <th>13</th>\n",
       "      <td>Sep-19</td>\n",
       "      <td>7570.70</td>\n",
       "    </tr>\n",
       "    <tr>\n",
       "      <th>14</th>\n",
       "      <td>Dec-19</td>\n",
       "      <td>6996.73</td>\n",
       "    </tr>\n",
       "    <tr>\n",
       "      <th>15</th>\n",
       "      <td>Mar-20</td>\n",
       "      <td>6238.39</td>\n",
       "    </tr>\n",
       "    <tr>\n",
       "      <th>16</th>\n",
       "      <td>Jun-20</td>\n",
       "      <td>2971.54</td>\n",
       "    </tr>\n",
       "    <tr>\n",
       "      <th>17</th>\n",
       "      <td>Sep-20</td>\n",
       "      <td>9367.34</td>\n",
       "    </tr>\n",
       "    <tr>\n",
       "      <th>18</th>\n",
       "      <td>Dec-20</td>\n",
       "      <td>9775.77</td>\n",
       "    </tr>\n",
       "    <tr>\n",
       "      <th>19</th>\n",
       "      <td>Mar-21</td>\n",
       "      <td>8685.97</td>\n",
       "    </tr>\n",
       "  </tbody>\n",
       "</table>\n",
       "</div>"
      ],
      "text/plain": [
       "    Quater    Sales\n",
       "0   Jun-16  7398.91\n",
       "1   Sep-16  7669.53\n",
       "2   Dec-16  6245.90\n",
       "3   Mar-17  6915.20\n",
       "4   Jun-17  7971.58\n",
       "5   Sep-17  8361.99\n",
       "6   Dec-17  7305.49\n",
       "7   Mar-18  8564.04\n",
       "8   Jun-18  8809.82\n",
       "9   Sep-18  9090.94\n",
       "10  Dec-18  7864.82\n",
       "11  Mar-19  7884.96\n",
       "12  Jun-19  8030.27\n",
       "13  Sep-19  7570.70\n",
       "14  Dec-19  6996.73\n",
       "15  Mar-20  6238.39\n",
       "16  Jun-20  2971.54\n",
       "17  Sep-20  9367.34\n",
       "18  Dec-20  9775.77\n",
       "19  Mar-21  8685.97"
      ]
     },
     "execution_count": 9,
     "metadata": {},
     "output_type": "execute_result"
    }
   ],
   "source": [
    "df"
   ]
  },
  {
   "cell_type": "code",
   "execution_count": 10,
   "id": "controversial-greenhouse",
   "metadata": {
    "_kg_hide-input": true,
    "execution": {
     "iopub.execute_input": "2021-07-07T04:53:09.736990Z",
     "iopub.status.busy": "2021-07-07T04:53:09.736390Z",
     "iopub.status.idle": "2021-07-07T04:53:09.739742Z",
     "shell.execute_reply": "2021-07-07T04:53:09.740233Z",
     "shell.execute_reply.started": "2021-07-07T04:52:43.691194Z"
    },
    "papermill": {
     "duration": 0.022318,
     "end_time": "2021-07-07T04:53:09.740391",
     "exception": false,
     "start_time": "2021-07-07T04:53:09.718073",
     "status": "completed"
    },
    "tags": []
   },
   "outputs": [],
   "source": [
    "from statsmodels.tsa.arima_model import ARIMA"
   ]
  },
  {
   "cell_type": "code",
   "execution_count": 11,
   "id": "precise-toddler",
   "metadata": {
    "_kg_hide-input": true,
    "execution": {
     "iopub.execute_input": "2021-07-07T04:53:09.775205Z",
     "iopub.status.busy": "2021-07-07T04:53:09.774578Z",
     "iopub.status.idle": "2021-07-07T04:53:09.861242Z",
     "shell.execute_reply": "2021-07-07T04:53:09.862005Z",
     "shell.execute_reply.started": "2021-07-07T04:52:43.698162Z"
    },
    "papermill": {
     "duration": 0.105893,
     "end_time": "2021-07-07T04:53:09.862273",
     "exception": false,
     "start_time": "2021-07-07T04:53:09.756380",
     "status": "completed"
    },
    "tags": []
   },
   "outputs": [
    {
     "name": "stderr",
     "output_type": "stream",
     "text": [
      "/opt/conda/lib/python3.7/site-packages/statsmodels/tsa/arima_model.py:472: FutureWarning: \n",
      "statsmodels.tsa.arima_model.ARMA and statsmodels.tsa.arima_model.ARIMA have\n",
      "been deprecated in favor of statsmodels.tsa.arima.model.ARIMA (note the .\n",
      "between arima and model) and\n",
      "statsmodels.tsa.SARIMAX. These will be removed after the 0.12 release.\n",
      "\n",
      "statsmodels.tsa.arima.model.ARIMA makes use of the statespace framework and\n",
      "is both well tested and maintained.\n",
      "\n",
      "To silence this warning and continue using ARMA and ARIMA until they are\n",
      "removed, use:\n",
      "\n",
      "import warnings\n",
      "warnings.filterwarnings('ignore', 'statsmodels.tsa.arima_model.ARMA',\n",
      "                        FutureWarning)\n",
      "warnings.filterwarnings('ignore', 'statsmodels.tsa.arima_model.ARIMA',\n",
      "                        FutureWarning)\n",
      "\n",
      "  warnings.warn(ARIMA_DEPRECATION_WARN, FutureWarning)\n"
     ]
    }
   ],
   "source": [
    "arima = ARIMA(df['Sales'][0:20].astype(np.float64),\n",
    "             order=(1,0,0))\n",
    "ar_model = arima.fit()"
   ]
  },
  {
   "cell_type": "code",
   "execution_count": 12,
   "id": "focal-brunswick",
   "metadata": {
    "_kg_hide-input": true,
    "execution": {
     "iopub.execute_input": "2021-07-07T04:53:09.906185Z",
     "iopub.status.busy": "2021-07-07T04:53:09.905091Z",
     "iopub.status.idle": "2021-07-07T04:53:09.920580Z",
     "shell.execute_reply": "2021-07-07T04:53:09.921464Z",
     "shell.execute_reply.started": "2021-07-07T04:52:43.765191Z"
    },
    "papermill": {
     "duration": 0.04103,
     "end_time": "2021-07-07T04:53:09.921734",
     "exception": false,
     "start_time": "2021-07-07T04:53:09.880704",
     "status": "completed"
    },
    "tags": []
   },
   "outputs": [
    {
     "data": {
      "text/html": [
       "<table class=\"simpletable\">\n",
       "<caption>ARMA Model Results</caption>\n",
       "<tr>\n",
       "  <th>Dep. Variable:</th>       <td>Sales</td>      <th>  No. Observations:  </th>    <td>20</td>   \n",
       "</tr>\n",
       "<tr>\n",
       "  <th>Model:</th>            <td>ARMA(1, 0)</td>    <th>  Log Likelihood     </th> <td>-173.133</td>\n",
       "</tr>\n",
       "<tr>\n",
       "  <th>Method:</th>             <td>css-mle</td>     <th>  S.D. of innovations</th> <td>1389.258</td>\n",
       "</tr>\n",
       "<tr>\n",
       "  <th>Date:</th>          <td>Wed, 07 Jul 2021</td> <th>  AIC                </th>  <td>352.266</td>\n",
       "</tr>\n",
       "<tr>\n",
       "  <th>Time:</th>              <td>04:53:09</td>     <th>  BIC                </th>  <td>355.254</td>\n",
       "</tr>\n",
       "<tr>\n",
       "  <th>Sample:</th>                <td>0</td>        <th>  HQIC               </th>  <td>352.850</td>\n",
       "</tr>\n",
       "<tr>\n",
       "  <th></th>                       <td> </td>        <th>                     </th>     <td> </td>   \n",
       "</tr>\n",
       "</table>\n",
       "<table class=\"simpletable\">\n",
       "<tr>\n",
       "       <td></td>          <th>coef</th>     <th>std err</th>      <th>z</th>      <th>P>|z|</th>  <th>[0.025</th>    <th>0.975]</th>  \n",
       "</tr>\n",
       "<tr>\n",
       "  <th>const</th>       <td> 7695.3356</td> <td>  391.109</td> <td>   19.676</td> <td> 0.000</td> <td> 6928.777</td> <td> 8461.895</td>\n",
       "</tr>\n",
       "<tr>\n",
       "  <th>ar.L1.Sales</th> <td>    0.2161</td> <td>    0.215</td> <td>    1.005</td> <td> 0.315</td> <td>   -0.205</td> <td>    0.638</td>\n",
       "</tr>\n",
       "</table>\n",
       "<table class=\"simpletable\">\n",
       "<caption>Roots</caption>\n",
       "<tr>\n",
       "    <td></td>   <th>            Real</th>  <th>         Imaginary</th> <th>         Modulus</th>  <th>        Frequency</th>\n",
       "</tr>\n",
       "<tr>\n",
       "  <th>AR.1</th> <td>           4.6275</td> <td>          +0.0000j</td> <td>           4.6275</td> <td>           0.0000</td>\n",
       "</tr>\n",
       "</table>"
      ],
      "text/plain": [
       "<class 'statsmodels.iolib.summary.Summary'>\n",
       "\"\"\"\n",
       "                              ARMA Model Results                              \n",
       "==============================================================================\n",
       "Dep. Variable:                  Sales   No. Observations:                   20\n",
       "Model:                     ARMA(1, 0)   Log Likelihood                -173.133\n",
       "Method:                       css-mle   S.D. of innovations           1389.258\n",
       "Date:                Wed, 07 Jul 2021   AIC                            352.266\n",
       "Time:                        04:53:09   BIC                            355.254\n",
       "Sample:                             0   HQIC                           352.850\n",
       "                                                                              \n",
       "===============================================================================\n",
       "                  coef    std err          z      P>|z|      [0.025      0.975]\n",
       "-------------------------------------------------------------------------------\n",
       "const        7695.3356    391.109     19.676      0.000    6928.777    8461.895\n",
       "ar.L1.Sales     0.2161      0.215      1.005      0.315      -0.205       0.638\n",
       "                                    Roots                                    \n",
       "=============================================================================\n",
       "                  Real          Imaginary           Modulus         Frequency\n",
       "-----------------------------------------------------------------------------\n",
       "AR.1            4.6275           +0.0000j            4.6275            0.0000\n",
       "-----------------------------------------------------------------------------\n",
       "\"\"\""
      ]
     },
     "execution_count": 12,
     "metadata": {},
     "output_type": "execute_result"
    }
   ],
   "source": [
    "ar_model.summary()"
   ]
  },
  {
   "cell_type": "code",
   "execution_count": 13,
   "id": "selective-burke",
   "metadata": {
    "_kg_hide-input": true,
    "execution": {
     "iopub.execute_input": "2021-07-07T04:53:09.971122Z",
     "iopub.status.busy": "2021-07-07T04:53:09.970511Z",
     "iopub.status.idle": "2021-07-07T04:53:09.974924Z",
     "shell.execute_reply": "2021-07-07T04:53:09.973905Z",
     "shell.execute_reply.started": "2021-07-07T04:52:43.781921Z"
    },
    "papermill": {
     "duration": 0.029606,
     "end_time": "2021-07-07T04:53:09.975139",
     "exception": false,
     "start_time": "2021-07-07T04:53:09.945533",
     "status": "completed"
    },
    "tags": []
   },
   "outputs": [
    {
     "name": "stdout",
     "output_type": "stream",
     "text": [
      "20    7909.413418\n",
      "21    7741.598196\n",
      "22    7705.333035\n",
      "23    7697.496071\n",
      "24    7695.802490\n",
      "25    7695.436504\n",
      "26    7695.357414\n",
      "27    7695.340322\n",
      "28    7695.336629\n",
      "29    7695.335831\n",
      "30    7695.335658\n",
      "dtype: float64\n"
     ]
    }
   ],
   "source": [
    "# Forecasting next 10 Quater\n",
    "predict = ar_model.predict(20,30)\n",
    "print(predict)"
   ]
  },
  {
   "cell_type": "markdown",
   "id": "adverse-surveillance",
   "metadata": {
    "papermill": {
     "duration": 0.017468,
     "end_time": "2021-07-07T04:53:10.019165",
     "exception": false,
     "start_time": "2021-07-07T04:53:10.001697",
     "status": "completed"
    },
    "tags": []
   },
   "source": [
    "# Thank You..."
   ]
  }
 ],
 "metadata": {
  "kernelspec": {
   "display_name": "Python 3",
   "language": "python",
   "name": "python3"
  },
  "language_info": {
   "codemirror_mode": {
    "name": "ipython",
    "version": 3
   },
   "file_extension": ".py",
   "mimetype": "text/x-python",
   "name": "python",
   "nbconvert_exporter": "python",
   "pygments_lexer": "ipython3",
   "version": "3.7.10"
  },
  "papermill": {
   "default_parameters": {},
   "duration": 12.816538,
   "end_time": "2021-07-07T04:53:11.551896",
   "environment_variables": {},
   "exception": null,
   "input_path": "__notebook__.ipynb",
   "output_path": "__notebook__.ipynb",
   "parameters": {},
   "start_time": "2021-07-07T04:52:58.735358",
   "version": "2.3.3"
  }
 },
 "nbformat": 4,
 "nbformat_minor": 5
}
