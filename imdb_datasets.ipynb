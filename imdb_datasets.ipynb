{
  "nbformat": 4,
  "nbformat_minor": 0,
  "metadata": {
    "colab": {
      "name": "imdb_datasets.ipynb",
      "provenance": [],
      "collapsed_sections": []
    },
    "kernelspec": {
      "name": "python3",
      "display_name": "Python 3"
    },
    "language_info": {
      "name": "python"
    }
  },
  "cells": [
    {
      "cell_type": "code",
      "metadata": {
        "id": "umyt-Gux7L7e"
      },
      "source": [
        "import tensorflow as tf\n",
        "from tensorflow.keras import datasets, layers, models, preprocessing"
      ],
      "execution_count": 1,
      "outputs": []
    },
    {
      "cell_type": "code",
      "metadata": {
        "id": "PGMvmRhc7l9J"
      },
      "source": [
        "import tensorflow_datasets as tfds"
      ],
      "execution_count": 3,
      "outputs": []
    },
    {
      "cell_type": "code",
      "metadata": {
        "id": "mQitkUrz7l_9"
      },
      "source": [
        "max_len=200\n",
        "n_words=10000\n",
        "dim_embedding=256\n",
        "EPOCHS=20\n",
        "BATCH_SIZE=500    "
      ],
      "execution_count": 4,
      "outputs": []
    },
    {
      "cell_type": "code",
      "metadata": {
        "id": "fB3nuj7_7mCY"
      },
      "source": [
        "def load_data():\n",
        "  (X_train, y_train), (X_test, y_test) = datasets.imdb.load_data(num_words=n_words)\n",
        "  X_train = tf.keras.preprocessing.sequence.pad_sequences(X_train, maxlen=max_len)\n",
        "  X_test = tf.keras.preprocessing.sequence.pad_sequences(X_test, maxlen=max_len)\n",
        "  return (X_train, y_train), (X_test, y_test)"
      ],
      "execution_count": 6,
      "outputs": []
    },
    {
      "cell_type": "code",
      "metadata": {
        "colab": {
          "base_uri": "https://localhost:8080/"
        },
        "id": "tNAkKFsq7mFN",
        "outputId": "5096a764-9207-4399-f85b-1878557920ef"
      },
      "source": [
        "(X_train, y_train), (X_test, y_test) = load_data()"
      ],
      "execution_count": 8,
      "outputs": [
        {
          "output_type": "stream",
          "text": [
            "Downloading data from https://storage.googleapis.com/tensorflow/tf-keras-datasets/imdb.npz\n",
            "17465344/17464789 [==============================] - 0s 0us/step\n",
            "17473536/17464789 [==============================] - 0s 0us/step\n"
          ],
          "name": "stdout"
        }
      ]
    },
    {
      "cell_type": "code",
      "metadata": {
        "id": "hvx74NWj7mHq"
      },
      "source": [
        "def build_model():\n",
        "  model = models.Sequential()\n",
        "  model.add(layers.Embedding(n_words,dim_embedding, input_length=max_len))\n",
        "  model.add(layers.Dropout(0.3))\n",
        "  model.add(layers.GlobalMaxPool1D())\n",
        "  model.add(layers.Dense(128, activation='relu'))\n",
        "  model.add(layers.Dropout(0.5))\n",
        "  model.add(layers.Dense(1, activation='sigmoid'))\n",
        "  return model"
      ],
      "execution_count": 10,
      "outputs": []
    },
    {
      "cell_type": "code",
      "metadata": {
        "id": "a7iq8JaD7mKX"
      },
      "source": [
        "model = build_model()"
      ],
      "execution_count": 17,
      "outputs": []
    },
    {
      "cell_type": "code",
      "metadata": {
        "colab": {
          "base_uri": "https://localhost:8080/"
        },
        "id": "SY9YnDhN7mNs",
        "outputId": "4aeefb05-04f2-449d-ce21-fa648c2cee06"
      },
      "source": [
        "model.summary()"
      ],
      "execution_count": 18,
      "outputs": [
        {
          "output_type": "stream",
          "text": [
            "Model: \"sequential_1\"\n",
            "_________________________________________________________________\n",
            "Layer (type)                 Output Shape              Param #   \n",
            "=================================================================\n",
            "embedding_1 (Embedding)      (None, 200, 256)          2560000   \n",
            "_________________________________________________________________\n",
            "dropout_2 (Dropout)          (None, 200, 256)          0         \n",
            "_________________________________________________________________\n",
            "global_max_pooling1d_1 (Glob (None, 256)               0         \n",
            "_________________________________________________________________\n",
            "dense_2 (Dense)              (None, 128)               32896     \n",
            "_________________________________________________________________\n",
            "dropout_3 (Dropout)          (None, 128)               0         \n",
            "_________________________________________________________________\n",
            "dense_3 (Dense)              (None, 1)                 129       \n",
            "=================================================================\n",
            "Total params: 2,593,025\n",
            "Trainable params: 2,593,025\n",
            "Non-trainable params: 0\n",
            "_________________________________________________________________\n"
          ],
          "name": "stdout"
        }
      ]
    },
    {
      "cell_type": "code",
      "metadata": {
        "id": "hB-VK1Qk_cs-"
      },
      "source": [
        "model.compile(optimizer='Adam',loss='binary_crossentropy',metrics=['accuracy'])"
      ],
      "execution_count": 19,
      "outputs": []
    },
    {
      "cell_type": "code",
      "metadata": {
        "colab": {
          "base_uri": "https://localhost:8080/"
        },
        "id": "-jZdAEna_cvx",
        "outputId": "958225eb-eb47-4b70-ce77-b0db2c9e26cb"
      },
      "source": [
        "model.fit(X_train,y_train,epochs=EPOCHS,batch_size=BATCH_SIZE,validation_data=(X_test,y_test))"
      ],
      "execution_count": 20,
      "outputs": [
        {
          "output_type": "stream",
          "text": [
            "Epoch 1/20\n",
            "50/50 [==============================] - 24s 476ms/step - loss: 0.6771 - accuracy: 0.6387 - val_loss: 0.6432 - val_accuracy: 0.8336\n",
            "Epoch 2/20\n",
            "50/50 [==============================] - 23s 470ms/step - loss: 0.4776 - accuracy: 0.8354 - val_loss: 0.3675 - val_accuracy: 0.8558\n",
            "Epoch 3/20\n",
            "50/50 [==============================] - 24s 473ms/step - loss: 0.2824 - accuracy: 0.8854 - val_loss: 0.3047 - val_accuracy: 0.8745\n",
            "Epoch 4/20\n",
            "50/50 [==============================] - 24s 477ms/step - loss: 0.2187 - accuracy: 0.9156 - val_loss: 0.2909 - val_accuracy: 0.8796\n",
            "Epoch 5/20\n",
            "50/50 [==============================] - 24s 476ms/step - loss: 0.1736 - accuracy: 0.9368 - val_loss: 0.2890 - val_accuracy: 0.8781\n",
            "Epoch 6/20\n",
            "50/50 [==============================] - 24s 478ms/step - loss: 0.1365 - accuracy: 0.9538 - val_loss: 0.2914 - val_accuracy: 0.8768\n",
            "Epoch 7/20\n",
            "50/50 [==============================] - 24s 476ms/step - loss: 0.1068 - accuracy: 0.9656 - val_loss: 0.3021 - val_accuracy: 0.8714\n",
            "Epoch 8/20\n",
            "50/50 [==============================] - 24s 476ms/step - loss: 0.0817 - accuracy: 0.9751 - val_loss: 0.3162 - val_accuracy: 0.8668\n",
            "Epoch 9/20\n",
            "50/50 [==============================] - 24s 475ms/step - loss: 0.0600 - accuracy: 0.9843 - val_loss: 0.3316 - val_accuracy: 0.8650\n",
            "Epoch 10/20\n",
            "50/50 [==============================] - 24s 476ms/step - loss: 0.0438 - accuracy: 0.9896 - val_loss: 0.3565 - val_accuracy: 0.8594\n",
            "Epoch 11/20\n",
            "50/50 [==============================] - 24s 475ms/step - loss: 0.0332 - accuracy: 0.9935 - val_loss: 0.3680 - val_accuracy: 0.8595\n",
            "Epoch 12/20\n",
            "50/50 [==============================] - 24s 476ms/step - loss: 0.0267 - accuracy: 0.9946 - val_loss: 0.3935 - val_accuracy: 0.8540\n",
            "Epoch 13/20\n",
            "50/50 [==============================] - 24s 475ms/step - loss: 0.0201 - accuracy: 0.9963 - val_loss: 0.4013 - val_accuracy: 0.8557\n",
            "Epoch 14/20\n",
            "50/50 [==============================] - 24s 475ms/step - loss: 0.0161 - accuracy: 0.9971 - val_loss: 0.4184 - val_accuracy: 0.8535\n",
            "Epoch 15/20\n",
            "50/50 [==============================] - 24s 477ms/step - loss: 0.0126 - accuracy: 0.9983 - val_loss: 0.4343 - val_accuracy: 0.8538\n",
            "Epoch 16/20\n",
            "50/50 [==============================] - 24s 477ms/step - loss: 0.0109 - accuracy: 0.9985 - val_loss: 0.4397 - val_accuracy: 0.8546\n",
            "Epoch 17/20\n",
            "50/50 [==============================] - 24s 476ms/step - loss: 0.0090 - accuracy: 0.9987 - val_loss: 0.4581 - val_accuracy: 0.8533\n",
            "Epoch 18/20\n",
            "50/50 [==============================] - 24s 476ms/step - loss: 0.0082 - accuracy: 0.9988 - val_loss: 0.4620 - val_accuracy: 0.8535\n",
            "Epoch 19/20\n",
            "50/50 [==============================] - 24s 473ms/step - loss: 0.0073 - accuracy: 0.9989 - val_loss: 0.4790 - val_accuracy: 0.8518\n",
            "Epoch 20/20\n",
            "50/50 [==============================] - 24s 474ms/step - loss: 0.0064 - accuracy: 0.9992 - val_loss: 0.4956 - val_accuracy: 0.8506\n"
          ],
          "name": "stdout"
        },
        {
          "output_type": "execute_result",
          "data": {
            "text/plain": [
              "<keras.callbacks.History at 0x7f03a361e750>"
            ]
          },
          "metadata": {},
          "execution_count": 20
        }
      ]
    },
    {
      "cell_type": "code",
      "metadata": {
        "colab": {
          "base_uri": "https://localhost:8080/",
          "height": 282
        },
        "id": "wBK1HHiE_cyq",
        "outputId": "b21811f2-fa91-4358-80b0-51a000e85014"
      },
      "source": [
        "import pandas as pd\n",
        "result = pd.DataFrame(model.history.history)\n",
        "result.plot()"
      ],
      "execution_count": 21,
      "outputs": [
        {
          "output_type": "execute_result",
          "data": {
            "text/plain": [
              "<matplotlib.axes._subplots.AxesSubplot at 0x7f03a361ead0>"
            ]
          },
          "metadata": {},
          "execution_count": 21
        },
        {
          "output_type": "display_data",
          "data": {
            "image/png": "[encoded data removed]",
            "text/plain": [
              "<Figure size 432x288 with 1 Axes>"
            ]
          },
          "metadata": {
            "needs_background": "light"
          }
        }
      ]
    },
    {
      "cell_type": "code",
      "metadata": {
        "colab": {
          "base_uri": "https://localhost:8080/"
        },
        "id": "2OWqpnJx_c0x",
        "outputId": "0df890a1-158a-454e-800e-051d411753d6"
      },
      "source": [
        "test_loss, test_acc = model.evaluate(X_test,y_test, batch_size=BATCH_SIZE)"
      ],
      "execution_count": 22,
      "outputs": [
        {
          "output_type": "stream",
          "text": [
            "50/50 [==============================] - 2s 45ms/step - loss: 0.4956 - accuracy: 0.8506\n"
          ],
          "name": "stdout"
        }
      ]
    },
    {
      "cell_type": "code",
      "metadata": {
        "colab": {
          "base_uri": "https://localhost:8080/"
        },
        "id": "CG7ZdLxm_c4K",
        "outputId": "86963411-4f6b-40d6-9cda-b717a0e47717"
      },
      "source": [
        "print('Test accuracy:',test_acc)"
      ],
      "execution_count": 23,
      "outputs": [
        {
          "output_type": "stream",
          "text": [
            "Test accuracy: 0.850600004196167\n"
          ],
          "name": "stdout"
        }
      ]
    },
    {
      "cell_type": "code",
      "metadata": {
        "id": "QGT6EvD2DMBi"
      },
      "source": [
        "# Here my model overfit, so we have to do some changes with hyperparameters and batchnormalization may also work here"
      ],
      "execution_count": 24,
      "outputs": []
    }
  ]
}